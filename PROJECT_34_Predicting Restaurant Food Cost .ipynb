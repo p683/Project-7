{
 "cells": [
  {
   "cell_type": "markdown",
   "metadata": {},
   "source": [
    "# Predicting Restaurant Food Cost \n",
    "REGRESSION PROBLEM"
   ]
  },
  {
   "cell_type": "code",
   "execution_count": 1,
   "metadata": {},
   "outputs": [],
   "source": [
    "# IMPORTING THE LIBRARIES\n",
    "import pandas as pd\n",
    "import numpy as np\n",
    "import matplotlib.pyplot as plt\n",
    "%matplotlib inline\n",
    "import seaborn as sns\n",
    "import re\n",
    "import warnings\n",
    "warnings.filterwarnings(\"ignore\")"
   ]
  },
  {
   "cell_type": "code",
   "execution_count": 2,
   "metadata": {},
   "outputs": [],
   "source": [
    "# IMPORTING THE DATASET(TRAIN AND TEST DATA SET)\n",
    "train_df = pd.read_excel(\"C:\\\\Users\\\\PUNEET SINGH\\\\Data_Train.xlsx\")\n",
    "test_df =  pd.read_excel(\"C:\\\\Users\\\\PUNEET SINGH\\\\Data_Test.xlsx\")"
   ]
  },
  {
   "cell_type": "code",
   "execution_count": 3,
   "metadata": {},
   "outputs": [
    {
     "data": {
      "text/html": [
       "<div>\n",
       "<style scoped>\n",
       "    .dataframe tbody tr th:only-of-type {\n",
       "        vertical-align: middle;\n",
       "    }\n",
       "\n",
       "    .dataframe tbody tr th {\n",
       "        vertical-align: top;\n",
       "    }\n",
       "\n",
       "    .dataframe thead th {\n",
       "        text-align: right;\n",
       "    }\n",
       "</style>\n",
       "<table border=\"1\" class=\"dataframe\">\n",
       "  <thead>\n",
       "    <tr style=\"text-align: right;\">\n",
       "      <th></th>\n",
       "      <th>TITLE</th>\n",
       "      <th>RESTAURANT_ID</th>\n",
       "      <th>CUISINES</th>\n",
       "      <th>TIME</th>\n",
       "      <th>CITY</th>\n",
       "      <th>LOCALITY</th>\n",
       "      <th>RATING</th>\n",
       "      <th>VOTES</th>\n",
       "      <th>COST</th>\n",
       "    </tr>\n",
       "  </thead>\n",
       "  <tbody>\n",
       "    <tr>\n",
       "      <th>0</th>\n",
       "      <td>CASUAL DINING</td>\n",
       "      <td>9438</td>\n",
       "      <td>Malwani, Goan, North Indian</td>\n",
       "      <td>11am – 4pm, 7:30pm – 11:30pm (Mon-Sun)</td>\n",
       "      <td>Thane</td>\n",
       "      <td>Dombivali East</td>\n",
       "      <td>3.6</td>\n",
       "      <td>49 votes</td>\n",
       "      <td>1200</td>\n",
       "    </tr>\n",
       "    <tr>\n",
       "      <th>1</th>\n",
       "      <td>CASUAL DINING,BAR</td>\n",
       "      <td>13198</td>\n",
       "      <td>Asian, Modern Indian, Japanese</td>\n",
       "      <td>6pm – 11pm (Mon-Sun)</td>\n",
       "      <td>Chennai</td>\n",
       "      <td>Ramapuram</td>\n",
       "      <td>4.2</td>\n",
       "      <td>30 votes</td>\n",
       "      <td>1500</td>\n",
       "    </tr>\n",
       "    <tr>\n",
       "      <th>2</th>\n",
       "      <td>CASUAL DINING</td>\n",
       "      <td>10915</td>\n",
       "      <td>North Indian, Chinese, Biryani, Hyderabadi</td>\n",
       "      <td>11am – 3:30pm, 7pm – 11pm (Mon-Sun)</td>\n",
       "      <td>Chennai</td>\n",
       "      <td>Saligramam</td>\n",
       "      <td>3.8</td>\n",
       "      <td>221 votes</td>\n",
       "      <td>800</td>\n",
       "    </tr>\n",
       "    <tr>\n",
       "      <th>3</th>\n",
       "      <td>QUICK BITES</td>\n",
       "      <td>6346</td>\n",
       "      <td>Tibetan, Chinese</td>\n",
       "      <td>11:30am – 1am (Mon-Sun)</td>\n",
       "      <td>Mumbai</td>\n",
       "      <td>Bandra West</td>\n",
       "      <td>4.1</td>\n",
       "      <td>24 votes</td>\n",
       "      <td>800</td>\n",
       "    </tr>\n",
       "    <tr>\n",
       "      <th>4</th>\n",
       "      <td>DESSERT PARLOR</td>\n",
       "      <td>15387</td>\n",
       "      <td>Desserts</td>\n",
       "      <td>11am – 1am (Mon-Sun)</td>\n",
       "      <td>Mumbai</td>\n",
       "      <td>Lower Parel</td>\n",
       "      <td>3.8</td>\n",
       "      <td>165 votes</td>\n",
       "      <td>300</td>\n",
       "    </tr>\n",
       "  </tbody>\n",
       "</table>\n",
       "</div>"
      ],
      "text/plain": [
       "               TITLE  RESTAURANT_ID  \\\n",
       "0      CASUAL DINING           9438   \n",
       "1  CASUAL DINING,BAR          13198   \n",
       "2      CASUAL DINING          10915   \n",
       "3        QUICK BITES           6346   \n",
       "4     DESSERT PARLOR          15387   \n",
       "\n",
       "                                     CUISINES  \\\n",
       "0                 Malwani, Goan, North Indian   \n",
       "1              Asian, Modern Indian, Japanese   \n",
       "2  North Indian, Chinese, Biryani, Hyderabadi   \n",
       "3                            Tibetan, Chinese   \n",
       "4                                    Desserts   \n",
       "\n",
       "                                     TIME     CITY        LOCALITY RATING  \\\n",
       "0  11am – 4pm, 7:30pm – 11:30pm (Mon-Sun)    Thane  Dombivali East    3.6   \n",
       "1                    6pm – 11pm (Mon-Sun)  Chennai       Ramapuram    4.2   \n",
       "2     11am – 3:30pm, 7pm – 11pm (Mon-Sun)  Chennai      Saligramam    3.8   \n",
       "3                 11:30am – 1am (Mon-Sun)   Mumbai     Bandra West    4.1   \n",
       "4                    11am – 1am (Mon-Sun)   Mumbai     Lower Parel    3.8   \n",
       "\n",
       "       VOTES  COST  \n",
       "0   49 votes  1200  \n",
       "1   30 votes  1500  \n",
       "2  221 votes   800  \n",
       "3   24 votes   800  \n",
       "4  165 votes   300  "
      ]
     },
     "execution_count": 3,
     "metadata": {},
     "output_type": "execute_result"
    }
   ],
   "source": [
    "train_df.head()"
   ]
  },
  {
   "cell_type": "code",
   "execution_count": 4,
   "metadata": {},
   "outputs": [
    {
     "data": {
      "text/html": [
       "<div>\n",
       "<style scoped>\n",
       "    .dataframe tbody tr th:only-of-type {\n",
       "        vertical-align: middle;\n",
       "    }\n",
       "\n",
       "    .dataframe tbody tr th {\n",
       "        vertical-align: top;\n",
       "    }\n",
       "\n",
       "    .dataframe thead th {\n",
       "        text-align: right;\n",
       "    }\n",
       "</style>\n",
       "<table border=\"1\" class=\"dataframe\">\n",
       "  <thead>\n",
       "    <tr style=\"text-align: right;\">\n",
       "      <th></th>\n",
       "      <th>TITLE</th>\n",
       "      <th>RESTAURANT_ID</th>\n",
       "      <th>CUISINES</th>\n",
       "      <th>TIME</th>\n",
       "      <th>CITY</th>\n",
       "      <th>LOCALITY</th>\n",
       "      <th>RATING</th>\n",
       "      <th>VOTES</th>\n",
       "    </tr>\n",
       "  </thead>\n",
       "  <tbody>\n",
       "    <tr>\n",
       "      <th>0</th>\n",
       "      <td>CASUAL DINING</td>\n",
       "      <td>4085</td>\n",
       "      <td>North Indian, Chinese, Mughlai, Kebab</td>\n",
       "      <td>12noon – 12midnight (Mon-Sun)</td>\n",
       "      <td>Noida</td>\n",
       "      <td>Sector 18</td>\n",
       "      <td>4.3</td>\n",
       "      <td>564 votes</td>\n",
       "    </tr>\n",
       "    <tr>\n",
       "      <th>1</th>\n",
       "      <td>QUICK BITES</td>\n",
       "      <td>12680</td>\n",
       "      <td>South Indian, Fast Food, Pizza, North Indian</td>\n",
       "      <td>7am – 12:30AM (Mon-Sun)</td>\n",
       "      <td>Mumbai</td>\n",
       "      <td>Grant Road</td>\n",
       "      <td>4.2</td>\n",
       "      <td>61 votes</td>\n",
       "    </tr>\n",
       "    <tr>\n",
       "      <th>2</th>\n",
       "      <td>CASUAL DINING</td>\n",
       "      <td>1411</td>\n",
       "      <td>North Indian, Seafood, Biryani, Chinese</td>\n",
       "      <td>11am – 11:30pm (Mon-Sun)</td>\n",
       "      <td>Mumbai</td>\n",
       "      <td>Marine Lines</td>\n",
       "      <td>3.8</td>\n",
       "      <td>350 votes</td>\n",
       "    </tr>\n",
       "    <tr>\n",
       "      <th>3</th>\n",
       "      <td>None</td>\n",
       "      <td>204</td>\n",
       "      <td>Biryani</td>\n",
       "      <td>9am – 10pm (Mon, Wed, Thu, Fri, Sat, Sun), 10:...</td>\n",
       "      <td>Faridabad</td>\n",
       "      <td>NIT</td>\n",
       "      <td>3.8</td>\n",
       "      <td>1445 votes</td>\n",
       "    </tr>\n",
       "    <tr>\n",
       "      <th>4</th>\n",
       "      <td>QUICK BITES</td>\n",
       "      <td>13453</td>\n",
       "      <td>South Indian, Kerala</td>\n",
       "      <td>11am – 10pm (Mon-Sun)</td>\n",
       "      <td>Kochi</td>\n",
       "      <td>Kaloor</td>\n",
       "      <td>3.6</td>\n",
       "      <td>23 votes</td>\n",
       "    </tr>\n",
       "  </tbody>\n",
       "</table>\n",
       "</div>"
      ],
      "text/plain": [
       "           TITLE  RESTAURANT_ID                                      CUISINES  \\\n",
       "0  CASUAL DINING           4085         North Indian, Chinese, Mughlai, Kebab   \n",
       "1    QUICK BITES          12680  South Indian, Fast Food, Pizza, North Indian   \n",
       "2  CASUAL DINING           1411       North Indian, Seafood, Biryani, Chinese   \n",
       "3           None            204                                       Biryani   \n",
       "4    QUICK BITES          13453                          South Indian, Kerala   \n",
       "\n",
       "                                                TIME       CITY      LOCALITY  \\\n",
       "0                      12noon – 12midnight (Mon-Sun)      Noida     Sector 18   \n",
       "1                            7am – 12:30AM (Mon-Sun)     Mumbai    Grant Road   \n",
       "2                           11am – 11:30pm (Mon-Sun)     Mumbai  Marine Lines   \n",
       "3  9am – 10pm (Mon, Wed, Thu, Fri, Sat, Sun), 10:...  Faridabad           NIT   \n",
       "4                              11am – 10pm (Mon-Sun)      Kochi        Kaloor   \n",
       "\n",
       "  RATING       VOTES  \n",
       "0    4.3   564 votes  \n",
       "1    4.2    61 votes  \n",
       "2    3.8   350 votes  \n",
       "3    3.8  1445 votes  \n",
       "4    3.6    23 votes  "
      ]
     },
     "execution_count": 4,
     "metadata": {},
     "output_type": "execute_result"
    }
   ],
   "source": [
    "test_df.head()"
   ]
  },
  {
   "cell_type": "code",
   "execution_count": 5,
   "metadata": {},
   "outputs": [
    {
     "data": {
      "text/plain": [
       "<matplotlib.axes._subplots.AxesSubplot at 0x1de41203588>"
      ]
     },
     "execution_count": 5,
     "metadata": {},
     "output_type": "execute_result"
    },
    {
     "data": {
      "image/png": "[encoded data removed]",
      "text/plain": [
       "<Figure size 432x288 with 1 Axes>"
      ]
     },
     "metadata": {
      "needs_background": "light"
     },
     "output_type": "display_data"
    }
   ],
   "source": [
    "# Checking the normality of the Target variable Cost\n",
    "sns.distplot(train_df['COST'])"
   ]
  },
  {
   "cell_type": "code",
   "execution_count": 6,
   "metadata": {},
   "outputs": [
    {
     "data": {
      "text/plain": [
       "<matplotlib.axes._subplots.AxesSubplot at 0x1de412939b0>"
      ]
     },
     "execution_count": 6,
     "metadata": {},
     "output_type": "execute_result"
    },
    {
     "data": {
      "image/png": "[encoded data removed]",
      "text/plain": [
       "<Figure size 432x288 with 1 Axes>"
      ]
     },
     "metadata": {
      "needs_background": "light"
     },
     "output_type": "display_data"
    }
   ],
   "source": [
    "# Data is right skewed \n",
    "# so can apply log function on for the normality\n",
    "tst=np.log(train_df['COST'])\n",
    "sns.distplot(tst)"
   ]
  },
  {
   "cell_type": "code",
   "execution_count": 7,
   "metadata": {},
   "outputs": [
    {
     "name": "stdout",
     "output_type": "stream",
     "text": [
      "<class 'pandas.core.frame.DataFrame'>\n",
      "RangeIndex: 12690 entries, 0 to 12689\n",
      "Data columns (total 9 columns):\n",
      "TITLE            12690 non-null object\n",
      "RESTAURANT_ID    12690 non-null int64\n",
      "CUISINES         12690 non-null object\n",
      "TIME             12690 non-null object\n",
      "CITY             12578 non-null object\n",
      "LOCALITY         12592 non-null object\n",
      "RATING           12688 non-null object\n",
      "VOTES            11486 non-null object\n",
      "COST             12690 non-null int64\n",
      "dtypes: int64(2), object(7)\n",
      "memory usage: 892.3+ KB\n",
      "Info of the training set: None TITLE            object\n",
      "RESTAURANT_ID     int64\n",
      "CUISINES         object\n",
      "TIME             object\n",
      "CITY             object\n",
      "LOCALITY         object\n",
      "RATING           object\n",
      "VOTES            object\n",
      "COST              int64\n",
      "dtype: object\n",
      "________________________________________________________________________________\n",
      "<class 'pandas.core.frame.DataFrame'>\n",
      "RangeIndex: 4231 entries, 0 to 4230\n",
      "Data columns (total 8 columns):\n",
      "TITLE            4231 non-null object\n",
      "RESTAURANT_ID    4231 non-null int64\n",
      "CUISINES         4231 non-null object\n",
      "TIME             4231 non-null object\n",
      "CITY             4196 non-null object\n",
      "LOCALITY         4201 non-null object\n",
      "RATING           4229 non-null object\n",
      "VOTES            3829 non-null object\n",
      "dtypes: int64(1), object(7)\n",
      "memory usage: 264.5+ KB\n",
      "Info of the testing set : None TITLE            object\n",
      "RESTAURANT_ID     int64\n",
      "CUISINES         object\n",
      "TIME             object\n",
      "CITY             object\n",
      "LOCALITY         object\n",
      "RATING           object\n",
      "VOTES            object\n",
      "dtype: object\n"
     ]
    }
   ],
   "source": [
    "# Checking the info of the train and test data\n",
    "print(\"Info of the training set:\",train_df.info(),train_df.dtypes)\n",
    "print(\"__\"*40)\n",
    "print(\"Info of the testing set :\",test_df.info(),test_df.dtypes)"
   ]
  },
  {
   "cell_type": "code",
   "execution_count": 8,
   "metadata": {},
   "outputs": [
    {
     "name": "stdout",
     "output_type": "stream",
     "text": [
      "Null values in the training set : TITLE               0\n",
      "RESTAURANT_ID       0\n",
      "CUISINES            0\n",
      "TIME                0\n",
      "CITY              112\n",
      "LOCALITY           98\n",
      "RATING              2\n",
      "VOTES            1204\n",
      "COST                0\n",
      "dtype: int64\n",
      "________________________________________________________________________________\n",
      "Null values in the testing set : TITLE              0\n",
      "RESTAURANT_ID      0\n",
      "CUISINES           0\n",
      "TIME               0\n",
      "CITY              35\n",
      "LOCALITY          30\n",
      "RATING             2\n",
      "VOTES            402\n",
      "dtype: int64\n"
     ]
    }
   ],
   "source": [
    "# Checking for the null values in the training and testing set\n",
    "print(\"Null values in the training set :\",train_df.isnull().sum())\n",
    "print(\"__\"*40)\n",
    "print(\"Null values in the testing set :\",test_df.isnull().sum())"
   ]
  },
  {
   "cell_type": "code",
   "execution_count": 9,
   "metadata": {},
   "outputs": [
    {
     "data": {
      "text/plain": [
       "<matplotlib.axes._subplots.AxesSubplot at 0x1de411ac8d0>"
      ]
     },
     "execution_count": 9,
     "metadata": {},
     "output_type": "execute_result"
    },
    {
     "data": {
      "image/png": "[encoded data removed]",
      "text/plain": [
       "<Figure size 432x288 with 1 Axes>"
      ]
     },
     "metadata": {
      "needs_background": "light"
     },
     "output_type": "display_data"
    }
   ],
   "source": [
    "train_df.groupby(['RATING'])['COST'].sum().plot(kind='bar')"
   ]
  },
  {
   "cell_type": "code",
   "execution_count": 10,
   "metadata": {},
   "outputs": [],
   "source": [
    "# WE CAN SEE IN THE RATING FEATURE '-' AND 'NEW' ARE TWO DIFFERENT VALUES\n",
    "# SO RENAMING THEM\n",
    "train_df['RATING'] = train_df['RATING'].replace({'-':0.0, 'NEW':5.0}) # replace the rating\n",
    "# for test set\n",
    "test_df['RATING'] = test_df['RATING'].replace({'-':0.0, 'NEW':5.0}) # replace the rating"
   ]
  },
  {
   "cell_type": "code",
   "execution_count": 11,
   "metadata": {},
   "outputs": [
    {
     "name": "stdout",
     "output_type": "stream",
     "text": [
      "0\n"
     ]
    }
   ],
   "source": [
    "# Filling the missing values in the feature 'Rating'\n",
    "train_df['RATING'].fillna(train_df['RATING'].mode()[0],inplace=True)\n",
    "test_df['RATING'].fillna(test_df['RATING'].mode()[0],inplace=True)\n",
    "print(train_df['RATING'].isnull().sum())"
   ]
  },
  {
   "cell_type": "code",
   "execution_count": 12,
   "metadata": {},
   "outputs": [
    {
     "data": {
      "text/plain": [
       "<matplotlib.axes._subplots.AxesSubplot at 0x1de41364eb8>"
      ]
     },
     "execution_count": 12,
     "metadata": {},
     "output_type": "execute_result"
    },
    {
     "data": {
      "image/png": "[encoded data removed]",
      "text/plain": [
       "<Figure size 432x288 with 1 Axes>"
      ]
     },
     "metadata": {
      "needs_background": "light"
     },
     "output_type": "display_data"
    }
   ],
   "source": [
    "train_df.groupby(['RATING'])['COST'].sum().plot(kind='bar')"
   ]
  },
  {
   "cell_type": "code",
   "execution_count": 13,
   "metadata": {},
   "outputs": [],
   "source": [
    "# CHANGING THE OBJECT TYPE 'RATING' FEATURE INTO FLOAT\n",
    "train_df['RATING'] = train_df['RATING'].astype(float) # replace the rating\n",
    "# for test set\n",
    "test_df['RATING'] = test_df['RATING'].astype(float) # replace the rating"
   ]
  },
  {
   "cell_type": "code",
   "execution_count": 14,
   "metadata": {},
   "outputs": [
    {
     "data": {
      "text/plain": [
       "359"
      ]
     },
     "execution_count": 14,
     "metadata": {},
     "output_type": "execute_result"
    }
   ],
   "source": [
    "# CHECKING THE UNIQUE VALUES IN THE FEATURE 'CITY'\n",
    "train_df['CITY'].nunique()"
   ]
  },
  {
   "cell_type": "code",
   "execution_count": 15,
   "metadata": {},
   "outputs": [
    {
     "data": {
      "text/plain": [
       "Chennai                      2174\n",
       "Bangalore                    2149\n",
       "Hyderabad                    1819\n",
       "Mumbai                       1722\n",
       "New Delhi                    1321\n",
       "Kochi                        1279\n",
       "Gurgaon                       379\n",
       "Secunderabad                  310\n",
       "Noida                         211\n",
       "Navi Mumbai                   165\n",
       "Ghaziabad                     102\n",
       "Thane                          97\n",
       "Faridabad                      79\n",
       "Bandra West                    69\n",
       "Thane West                     52\n",
       "Andheri West                   48\n",
       "Bengaluru                      42\n",
       "Greater Noida                  31\n",
       "India                          23\n",
       "Kakkanad                       15\n",
       "Ernakulam                      14\n",
       "Dwarka                         10\n",
       "Kerala                         10\n",
       "Delhi NCR                       9\n",
       "Delhi                           8\n",
       "Hyderabad.                      7\n",
       "Telangana                       7\n",
       "Edappally                       7\n",
       "Gurugram                        7\n",
       "Bengalore                       6\n",
       "                             ... \n",
       "Chennai- 600107                 1\n",
       "Beside Excellency Gardens       1\n",
       "Dewan Rama Road                 1\n",
       "Pokhran Road 2                  1\n",
       "Perambur                        1\n",
       "Kochi-683101                    1\n",
       "Thevera                         1\n",
       "Narayanguda                     1\n",
       "Jogeshwari (w) Mumbai           1\n",
       "Whitefield Bangalore            1\n",
       "Hosur Road                      1\n",
       "Potheri                         1\n",
       "Phase 1 Bangalore               1\n",
       "Citypark                        1\n",
       "Ashok Nagar                     1\n",
       "East Mumbai                     1\n",
       "Nallala Street                  1\n",
       "Kanakapura Road Banglore        1\n",
       "JP Nagar Bangalore              1\n",
       "Mumbai Mahim                    1\n",
       "Near Shangrilla Bus Stop        1\n",
       "Sector 51                       1\n",
       "Kandivali                       1\n",
       "Kerala 690525                   1\n",
       "MG Road                         1\n",
       "Bangalore - 560103              1\n",
       "Mumbai Andheri East             1\n",
       "Telengana                       1\n",
       "Malad East                      1\n",
       "Thanisandra                     1\n",
       "Name: CITY, Length: 359, dtype: int64"
      ]
     },
     "execution_count": 15,
     "metadata": {},
     "output_type": "execute_result"
    }
   ],
   "source": [
    "# Values in the City feature\n",
    "train_df['CITY'].value_counts()"
   ]
  },
  {
   "cell_type": "code",
   "execution_count": 16,
   "metadata": {
    "scrolled": true
   },
   "outputs": [
    {
     "name": "stdout",
     "output_type": "stream",
     "text": [
      "Mean of cost at Mumabi 865.2729384436701\n",
      "Mean of cost at Chennai 588.5878564857405\n",
      "Mean of cost at Banglore 668.733829688227\n"
     ]
    }
   ],
   "source": [
    "# Checking the Mean of the cost of the fooda at different cities\n",
    "print(\"Mean of cost at Mumabi\",train_df[train_df['CITY'] == 'Mumbai']['COST'].mean())\n",
    "print(\"Mean of cost at Chennai\",train_df[train_df['CITY'] == 'Chennai']['COST'].mean())\n",
    "print(\"Mean of cost at Banglore\",train_df[train_df['CITY'] == 'Bangalore']['COST'].mean())"
   ]
  },
  {
   "cell_type": "code",
   "execution_count": 17,
   "metadata": {},
   "outputs": [],
   "source": [
    "# JOINING THE TRAINING AND TESTING DATASET\n",
    "train_df['source']= 'train'\n",
    "test_df['source'] = 'test'"
   ]
  },
  {
   "cell_type": "code",
   "execution_count": 18,
   "metadata": {},
   "outputs": [],
   "source": [
    "full_df=pd.concat([train_df, test_df],ignore_index=True)"
   ]
  },
  {
   "cell_type": "code",
   "execution_count": 19,
   "metadata": {},
   "outputs": [
    {
     "data": {
      "text/plain": [
       "((12690, 10), (4231, 9), (16921, 10))"
      ]
     },
     "execution_count": 19,
     "metadata": {},
     "output_type": "execute_result"
    }
   ],
   "source": [
    "train_df.shape,test_df.shape,full_df.shape"
   ]
  },
  {
   "cell_type": "code",
   "execution_count": 20,
   "metadata": {},
   "outputs": [
    {
     "data": {
      "text/plain": [
       "CITY              147\n",
       "COST             4231\n",
       "CUISINES            0\n",
       "LOCALITY          128\n",
       "RATING              0\n",
       "RESTAURANT_ID       0\n",
       "TIME                0\n",
       "TITLE               0\n",
       "VOTES            1606\n",
       "source              0\n",
       "dtype: int64"
      ]
     },
     "execution_count": 20,
     "metadata": {},
     "output_type": "execute_result"
    }
   ],
   "source": [
    "full_df.isnull().sum()"
   ]
  },
  {
   "cell_type": "code",
   "execution_count": 21,
   "metadata": {},
   "outputs": [
    {
     "data": {
      "text/plain": [
       "Gachibowli                               216\n",
       "Indiranagar                              187\n",
       "Kakkanad                                 175\n",
       "Kukatpally                               171\n",
       "Madhapur                                 169\n",
       "Whitefield                               164\n",
       "Banjara Hills                            157\n",
       "Edappally                                154\n",
       "HSR                                      149\n",
       "Marathahalli                             148\n",
       "Jubilee Hills                            144\n",
       "Fort Kochi                               138\n",
       "BTM                                      131\n",
       "Nungambakkam                             131\n",
       "MG Road                                  127\n",
       "Kaloor                                   123\n",
       "Jayanagar                                121\n",
       "T. Nagar                                 116\n",
       "Andheri West                             116\n",
       "Kondapur                                 113\n",
       "JP Nagar                                 106\n",
       "Borivali West                            105\n",
       "Velachery                                104\n",
       "Electronic City                          103\n",
       "Anna Nagar East                          100\n",
       "Koramangala 5th Block                    100\n",
       "Connaught Place                          100\n",
       "Malad West                                91\n",
       "Thane West                                89\n",
       "Hitech City                               87\n",
       "                                        ... \n",
       "Sikanderpur                                1\n",
       "Near Oberon Mall                           1\n",
       "Near Vadapalani metro station              1\n",
       "Kumarswamy Layout                          1\n",
       "Kerala 682022                              1\n",
       "Jos junction                               1\n",
       "Kuzhikattumoola                            1\n",
       "Valluvar Road                              1\n",
       "Kormangala 5th Block                       1\n",
       "8 Block Subhash Nagar                      1\n",
       "Kempegowda International Airport           1\n",
       "Ejipura Rama temple road                   1\n",
       "Subhash Chandra Bose Road Kadavanthra      1\n",
       "Near Tea Villa Cafe                        1\n",
       "Chinchpokli                                1\n",
       "Near Bhaskaracharya College Dwarka         1\n",
       "Near Underpass                             1\n",
       "Suranbhi Road                              1\n",
       "Secunderabad Division                      1\n",
       "Omega 1                                    1\n",
       "Sector 71                                  1\n",
       "Near Vikaspuri                             1\n",
       "madhapur                                   1\n",
       "RR Nagar                                   1\n",
       "East Krishna Nagar                         1\n",
       "Near kumar petrol bulk                     1\n",
       "Ernakulam South                            1\n",
       "Sand Pada                                  1\n",
       "Tiruvottiyur                               1\n",
       "Maharashtra 400013                         1\n",
       "Name: LOCALITY, Length: 1636, dtype: int64"
      ]
     },
     "execution_count": 21,
     "metadata": {},
     "output_type": "execute_result"
    }
   ],
   "source": [
    "full_df['LOCALITY'].value_counts()"
   ]
  },
  {
   "cell_type": "code",
   "execution_count": 22,
   "metadata": {},
   "outputs": [],
   "source": [
    "# Filling the missing value with the mode\n",
    "full_df['LOCALITY'].fillna(full_df['LOCALITY'].mode()[0],inplace=True)"
   ]
  },
  {
   "cell_type": "code",
   "execution_count": 23,
   "metadata": {},
   "outputs": [],
   "source": [
    "new1_test = full_df[\"VOTES\"].str.split(\" \", n = 1, expand =True)"
   ]
  },
  {
   "cell_type": "code",
   "execution_count": 24,
   "metadata": {},
   "outputs": [],
   "source": [
    "full_df['votes_no'] = new1_test[0]\n",
    "full_df['votes'] = new1_test[1]"
   ]
  },
  {
   "cell_type": "code",
   "execution_count": 25,
   "metadata": {
    "scrolled": true
   },
   "outputs": [
    {
     "data": {
      "text/html": [
       "<div>\n",
       "<style scoped>\n",
       "    .dataframe tbody tr th:only-of-type {\n",
       "        vertical-align: middle;\n",
       "    }\n",
       "\n",
       "    .dataframe tbody tr th {\n",
       "        vertical-align: top;\n",
       "    }\n",
       "\n",
       "    .dataframe thead th {\n",
       "        text-align: right;\n",
       "    }\n",
       "</style>\n",
       "<table border=\"1\" class=\"dataframe\">\n",
       "  <thead>\n",
       "    <tr style=\"text-align: right;\">\n",
       "      <th></th>\n",
       "      <th>CITY</th>\n",
       "      <th>COST</th>\n",
       "      <th>CUISINES</th>\n",
       "      <th>LOCALITY</th>\n",
       "      <th>RATING</th>\n",
       "      <th>RESTAURANT_ID</th>\n",
       "      <th>TIME</th>\n",
       "      <th>TITLE</th>\n",
       "      <th>VOTES</th>\n",
       "      <th>source</th>\n",
       "      <th>votes_no</th>\n",
       "      <th>votes</th>\n",
       "    </tr>\n",
       "  </thead>\n",
       "  <tbody>\n",
       "    <tr>\n",
       "      <th>0</th>\n",
       "      <td>Thane</td>\n",
       "      <td>1200.0</td>\n",
       "      <td>Malwani, Goan, North Indian</td>\n",
       "      <td>Dombivali East</td>\n",
       "      <td>3.6</td>\n",
       "      <td>9438</td>\n",
       "      <td>11am – 4pm, 7:30pm – 11:30pm (Mon-Sun)</td>\n",
       "      <td>CASUAL DINING</td>\n",
       "      <td>49 votes</td>\n",
       "      <td>train</td>\n",
       "      <td>49</td>\n",
       "      <td>votes</td>\n",
       "    </tr>\n",
       "    <tr>\n",
       "      <th>1</th>\n",
       "      <td>Chennai</td>\n",
       "      <td>1500.0</td>\n",
       "      <td>Asian, Modern Indian, Japanese</td>\n",
       "      <td>Ramapuram</td>\n",
       "      <td>4.2</td>\n",
       "      <td>13198</td>\n",
       "      <td>6pm – 11pm (Mon-Sun)</td>\n",
       "      <td>CASUAL DINING,BAR</td>\n",
       "      <td>30 votes</td>\n",
       "      <td>train</td>\n",
       "      <td>30</td>\n",
       "      <td>votes</td>\n",
       "    </tr>\n",
       "    <tr>\n",
       "      <th>2</th>\n",
       "      <td>Chennai</td>\n",
       "      <td>800.0</td>\n",
       "      <td>North Indian, Chinese, Biryani, Hyderabadi</td>\n",
       "      <td>Saligramam</td>\n",
       "      <td>3.8</td>\n",
       "      <td>10915</td>\n",
       "      <td>11am – 3:30pm, 7pm – 11pm (Mon-Sun)</td>\n",
       "      <td>CASUAL DINING</td>\n",
       "      <td>221 votes</td>\n",
       "      <td>train</td>\n",
       "      <td>221</td>\n",
       "      <td>votes</td>\n",
       "    </tr>\n",
       "    <tr>\n",
       "      <th>3</th>\n",
       "      <td>Mumbai</td>\n",
       "      <td>800.0</td>\n",
       "      <td>Tibetan, Chinese</td>\n",
       "      <td>Bandra West</td>\n",
       "      <td>4.1</td>\n",
       "      <td>6346</td>\n",
       "      <td>11:30am – 1am (Mon-Sun)</td>\n",
       "      <td>QUICK BITES</td>\n",
       "      <td>24 votes</td>\n",
       "      <td>train</td>\n",
       "      <td>24</td>\n",
       "      <td>votes</td>\n",
       "    </tr>\n",
       "    <tr>\n",
       "      <th>4</th>\n",
       "      <td>Mumbai</td>\n",
       "      <td>300.0</td>\n",
       "      <td>Desserts</td>\n",
       "      <td>Lower Parel</td>\n",
       "      <td>3.8</td>\n",
       "      <td>15387</td>\n",
       "      <td>11am – 1am (Mon-Sun)</td>\n",
       "      <td>DESSERT PARLOR</td>\n",
       "      <td>165 votes</td>\n",
       "      <td>train</td>\n",
       "      <td>165</td>\n",
       "      <td>votes</td>\n",
       "    </tr>\n",
       "  </tbody>\n",
       "</table>\n",
       "</div>"
      ],
      "text/plain": [
       "      CITY    COST                                    CUISINES  \\\n",
       "0    Thane  1200.0                 Malwani, Goan, North Indian   \n",
       "1  Chennai  1500.0              Asian, Modern Indian, Japanese   \n",
       "2  Chennai   800.0  North Indian, Chinese, Biryani, Hyderabadi   \n",
       "3   Mumbai   800.0                            Tibetan, Chinese   \n",
       "4   Mumbai   300.0                                    Desserts   \n",
       "\n",
       "         LOCALITY  RATING  RESTAURANT_ID  \\\n",
       "0  Dombivali East     3.6           9438   \n",
       "1       Ramapuram     4.2          13198   \n",
       "2      Saligramam     3.8          10915   \n",
       "3     Bandra West     4.1           6346   \n",
       "4     Lower Parel     3.8          15387   \n",
       "\n",
       "                                     TIME              TITLE      VOTES  \\\n",
       "0  11am – 4pm, 7:30pm – 11:30pm (Mon-Sun)      CASUAL DINING   49 votes   \n",
       "1                    6pm – 11pm (Mon-Sun)  CASUAL DINING,BAR   30 votes   \n",
       "2     11am – 3:30pm, 7pm – 11pm (Mon-Sun)      CASUAL DINING  221 votes   \n",
       "3                 11:30am – 1am (Mon-Sun)        QUICK BITES   24 votes   \n",
       "4                    11am – 1am (Mon-Sun)     DESSERT PARLOR  165 votes   \n",
       "\n",
       "  source votes_no  votes  \n",
       "0  train       49  votes  \n",
       "1  train       30  votes  \n",
       "2  train      221  votes  \n",
       "3  train       24  votes  \n",
       "4  train      165  votes  "
      ]
     },
     "execution_count": 25,
     "metadata": {},
     "output_type": "execute_result"
    }
   ],
   "source": [
    "full_df.head()"
   ]
  },
  {
   "cell_type": "code",
   "execution_count": 26,
   "metadata": {},
   "outputs": [],
   "source": [
    "# Converting the votes_no into float\n",
    "full_df['votes_no'] = full_df['votes_no'].astype(float)"
   ]
  },
  {
   "cell_type": "code",
   "execution_count": 27,
   "metadata": {},
   "outputs": [],
   "source": [
    "# Filling the Missing value of feature 'City' by it's mode\n",
    "full_df['CITY'] = full_df['CITY'].fillna('Chennai')"
   ]
  },
  {
   "cell_type": "code",
   "execution_count": 28,
   "metadata": {},
   "outputs": [],
   "source": [
    "# Filling the Missing value of feature 'LOCALITY' by it's mode\n",
    "full_df['LOCALITY'] = full_df['LOCALITY'].fillna('Gachibowli')"
   ]
  },
  {
   "cell_type": "code",
   "execution_count": 29,
   "metadata": {},
   "outputs": [
    {
     "data": {
      "text/plain": [
       "CITY                0\n",
       "COST             4231\n",
       "CUISINES            0\n",
       "LOCALITY            0\n",
       "RATING              0\n",
       "RESTAURANT_ID       0\n",
       "TIME                0\n",
       "TITLE               0\n",
       "VOTES            1606\n",
       "source              0\n",
       "votes_no         1606\n",
       "votes            1606\n",
       "dtype: int64"
      ]
     },
     "execution_count": 29,
     "metadata": {},
     "output_type": "execute_result"
    }
   ],
   "source": [
    "# Again checking for any missing values\n",
    "full_df.isnull().sum()"
   ]
  },
  {
   "cell_type": "code",
   "execution_count": 30,
   "metadata": {},
   "outputs": [],
   "source": [
    "full_df['votes_no'] = full_df['votes_no'].fillna(44.0) # filling with mode"
   ]
  },
  {
   "cell_type": "code",
   "execution_count": 31,
   "metadata": {},
   "outputs": [],
   "source": [
    "# Dropping the votes features\n",
    "full_df = full_df.drop(['VOTES', 'votes'], axis=1)"
   ]
  },
  {
   "cell_type": "code",
   "execution_count": 32,
   "metadata": {},
   "outputs": [],
   "source": [
    "# FEATURE ENGINEERING\n",
    "# CONVERTING THE TEXT DATA INTO BINARY FORM \n",
    "# EXTRACTING THE DATA\n",
    "full_df['title_rat'] = full_df['TITLE'].map(full_df.groupby('TITLE')['RATING'].mean())\n",
    "full_df['title_rat_C'] = full_df['TITLE'].map(full_df.groupby('TITLE')['RATING'].count())\n",
    "full_df['city_rat'] = full_df['CITY'].map(full_df.groupby('CITY')['RATING'].mean())\n",
    "full_df['city_rat_C'] = full_df['CITY'].map(full_df.groupby('CITY')['RATING'].count())\n",
    "full_df['cuisine_rat'] = full_df['CUISINES'].map(full_df.groupby('CUISINES')['RATING'].mean())\n",
    "full_df['cuisine_rat_C'] = full_df['CUISINES'].map(full_df.groupby('CUISINES')['RATING'].count())\n",
    "full_df['rest_id'] = full_df['RESTAURANT_ID'].map(full_df.groupby('RESTAURANT_ID')['RATING'].count())\n",
    "full_df['rest_id_votes'] = full_df['RESTAURANT_ID'].map(full_df.groupby('RESTAURANT_ID')['votes_no'].count())\n",
    "full_df['title_rat_sum'] = full_df['TITLE'].map(full_df.groupby('TITLE')['RATING'].sum())\n",
    "full_df['title_rat_C_sum'] = full_df['TITLE'].map(full_df.groupby('TITLE')['RATING'].sum())\n",
    "full_df['city_rat_sum'] = full_df['CITY'].map(full_df.groupby('CITY')['RATING'].sum())\n",
    "full_df['city_rat_C_sum'] = full_df['CITY'].map(full_df.groupby('CITY')['RATING'].sum())\n",
    "full_df['cuisine_rat_sum'] = full_df['CUISINES'].map(full_df.groupby('CUISINES')['RATING'].sum())\n",
    "full_df['cuisine_rat_C_sum'] = full_df['CUISINES'].map(full_df.groupby('CUISINES')['RATING'].sum())\n",
    "full_df['rat_vote'] = full_df['RATING'] * full_df['votes_no']"
   ]
  },
  {
   "cell_type": "code",
   "execution_count": 33,
   "metadata": {},
   "outputs": [
    {
     "name": "stdout",
     "output_type": "stream",
     "text": [
      "Shape all_data: (16921, 25)\n"
     ]
    }
   ],
   "source": [
    "# Converting the extracted data into binary  form \n",
    "# Importing the label Encoder\n",
    "from sklearn.preprocessing import LabelEncoder\n",
    "cols = ('CUISINES', 'TIME', 'LOCALITY', 'TITLE', 'CITY')\n",
    "# process columns, apply LabelEncoder to categorical features\n",
    "for c in cols:\n",
    "    lbl = LabelEncoder() \n",
    "    lbl.fit(list(full_df[c].values)) \n",
    "    full_df[c] = lbl.transform(list(full_df[c].values))\n",
    "\n",
    "# shape        \n",
    "print('Shape all_data: {}'.format(full_df.shape))"
   ]
  },
  {
   "cell_type": "code",
   "execution_count": 34,
   "metadata": {
    "scrolled": true
   },
   "outputs": [
    {
     "data": {
      "text/html": [
       "<div>\n",
       "<style scoped>\n",
       "    .dataframe tbody tr th:only-of-type {\n",
       "        vertical-align: middle;\n",
       "    }\n",
       "\n",
       "    .dataframe tbody tr th {\n",
       "        vertical-align: top;\n",
       "    }\n",
       "\n",
       "    .dataframe thead th {\n",
       "        text-align: right;\n",
       "    }\n",
       "</style>\n",
       "<table border=\"1\" class=\"dataframe\">\n",
       "  <thead>\n",
       "    <tr style=\"text-align: right;\">\n",
       "      <th></th>\n",
       "      <th>CITY</th>\n",
       "      <th>COST</th>\n",
       "      <th>CUISINES</th>\n",
       "      <th>LOCALITY</th>\n",
       "      <th>RATING</th>\n",
       "      <th>RESTAURANT_ID</th>\n",
       "      <th>TIME</th>\n",
       "      <th>TITLE</th>\n",
       "      <th>source</th>\n",
       "      <th>votes_no</th>\n",
       "      <th>...</th>\n",
       "      <th>cuisine_rat_C</th>\n",
       "      <th>rest_id</th>\n",
       "      <th>rest_id_votes</th>\n",
       "      <th>title_rat_sum</th>\n",
       "      <th>title_rat_C_sum</th>\n",
       "      <th>city_rat_sum</th>\n",
       "      <th>city_rat_C_sum</th>\n",
       "      <th>cuisine_rat_sum</th>\n",
       "      <th>cuisine_rat_C_sum</th>\n",
       "      <th>rat_vote</th>\n",
       "    </tr>\n",
       "  </thead>\n",
       "  <tbody>\n",
       "    <tr>\n",
       "      <th>0</th>\n",
       "      <td>400</td>\n",
       "      <td>1200.0</td>\n",
       "      <td>3294</td>\n",
       "      <td>328</td>\n",
       "      <td>3.6</td>\n",
       "      <td>9438</td>\n",
       "      <td>898</td>\n",
       "      <td>34</td>\n",
       "      <td>train</td>\n",
       "      <td>49.0</td>\n",
       "      <td>...</td>\n",
       "      <td>1</td>\n",
       "      <td>1</td>\n",
       "      <td>1</td>\n",
       "      <td>17928.8</td>\n",
       "      <td>17928.8</td>\n",
       "      <td>490.4</td>\n",
       "      <td>490.4</td>\n",
       "      <td>3.6</td>\n",
       "      <td>3.6</td>\n",
       "      <td>176.4</td>\n",
       "    </tr>\n",
       "    <tr>\n",
       "      <th>1</th>\n",
       "      <td>75</td>\n",
       "      <td>1500.0</td>\n",
       "      <td>364</td>\n",
       "      <td>1214</td>\n",
       "      <td>4.2</td>\n",
       "      <td>13198</td>\n",
       "      <td>2301</td>\n",
       "      <td>36</td>\n",
       "      <td>train</td>\n",
       "      <td>30.0</td>\n",
       "      <td>...</td>\n",
       "      <td>1</td>\n",
       "      <td>2</td>\n",
       "      <td>2</td>\n",
       "      <td>1897.8</td>\n",
       "      <td>1897.8</td>\n",
       "      <td>10974.7</td>\n",
       "      <td>10974.7</td>\n",
       "      <td>4.2</td>\n",
       "      <td>4.2</td>\n",
       "      <td>126.0</td>\n",
       "    </tr>\n",
       "    <tr>\n",
       "      <th>2</th>\n",
       "      <td>75</td>\n",
       "      <td>800.0</td>\n",
       "      <td>3729</td>\n",
       "      <td>1272</td>\n",
       "      <td>3.8</td>\n",
       "      <td>10915</td>\n",
       "      <td>806</td>\n",
       "      <td>34</td>\n",
       "      <td>train</td>\n",
       "      <td>221.0</td>\n",
       "      <td>...</td>\n",
       "      <td>4</td>\n",
       "      <td>1</td>\n",
       "      <td>1</td>\n",
       "      <td>17928.8</td>\n",
       "      <td>17928.8</td>\n",
       "      <td>10974.7</td>\n",
       "      <td>10974.7</td>\n",
       "      <td>14.6</td>\n",
       "      <td>14.6</td>\n",
       "      <td>839.8</td>\n",
       "    </tr>\n",
       "    <tr>\n",
       "      <th>3</th>\n",
       "      <td>277</td>\n",
       "      <td>800.0</td>\n",
       "      <td>5156</td>\n",
       "      <td>161</td>\n",
       "      <td>4.1</td>\n",
       "      <td>6346</td>\n",
       "      <td>340</td>\n",
       "      <td>104</td>\n",
       "      <td>train</td>\n",
       "      <td>24.0</td>\n",
       "      <td>...</td>\n",
       "      <td>3</td>\n",
       "      <td>1</td>\n",
       "      <td>1</td>\n",
       "      <td>20224.2</td>\n",
       "      <td>20224.2</td>\n",
       "      <td>9289.8</td>\n",
       "      <td>9289.8</td>\n",
       "      <td>12.2</td>\n",
       "      <td>12.2</td>\n",
       "      <td>98.4</td>\n",
       "    </tr>\n",
       "    <tr>\n",
       "      <th>4</th>\n",
       "      <td>277</td>\n",
       "      <td>300.0</td>\n",
       "      <td>2218</td>\n",
       "      <td>709</td>\n",
       "      <td>3.8</td>\n",
       "      <td>15387</td>\n",
       "      <td>750</td>\n",
       "      <td>55</td>\n",
       "      <td>train</td>\n",
       "      <td>165.0</td>\n",
       "      <td>...</td>\n",
       "      <td>117</td>\n",
       "      <td>1</td>\n",
       "      <td>1</td>\n",
       "      <td>1888.6</td>\n",
       "      <td>1888.6</td>\n",
       "      <td>9289.8</td>\n",
       "      <td>9289.8</td>\n",
       "      <td>407.1</td>\n",
       "      <td>407.1</td>\n",
       "      <td>627.0</td>\n",
       "    </tr>\n",
       "  </tbody>\n",
       "</table>\n",
       "<p>5 rows × 25 columns</p>\n",
       "</div>"
      ],
      "text/plain": [
       "   CITY    COST  CUISINES  LOCALITY  RATING  RESTAURANT_ID  TIME  TITLE  \\\n",
       "0   400  1200.0      3294       328     3.6           9438   898     34   \n",
       "1    75  1500.0       364      1214     4.2          13198  2301     36   \n",
       "2    75   800.0      3729      1272     3.8          10915   806     34   \n",
       "3   277   800.0      5156       161     4.1           6346   340    104   \n",
       "4   277   300.0      2218       709     3.8          15387   750     55   \n",
       "\n",
       "  source  votes_no  ...  cuisine_rat_C  rest_id  rest_id_votes  title_rat_sum  \\\n",
       "0  train      49.0  ...              1        1              1        17928.8   \n",
       "1  train      30.0  ...              1        2              2         1897.8   \n",
       "2  train     221.0  ...              4        1              1        17928.8   \n",
       "3  train      24.0  ...              3        1              1        20224.2   \n",
       "4  train     165.0  ...            117        1              1         1888.6   \n",
       "\n",
       "   title_rat_C_sum  city_rat_sum  city_rat_C_sum  cuisine_rat_sum  \\\n",
       "0          17928.8         490.4           490.4              3.6   \n",
       "1           1897.8       10974.7         10974.7              4.2   \n",
       "2          17928.8       10974.7         10974.7             14.6   \n",
       "3          20224.2        9289.8          9289.8             12.2   \n",
       "4           1888.6        9289.8          9289.8            407.1   \n",
       "\n",
       "   cuisine_rat_C_sum  rat_vote  \n",
       "0                3.6     176.4  \n",
       "1                4.2     126.0  \n",
       "2               14.6     839.8  \n",
       "3               12.2      98.4  \n",
       "4              407.1     627.0  \n",
       "\n",
       "[5 rows x 25 columns]"
      ]
     },
     "execution_count": 34,
     "metadata": {},
     "output_type": "execute_result"
    }
   ],
   "source": [
    "full_df.head()"
   ]
  },
  {
   "cell_type": "code",
   "execution_count": 35,
   "metadata": {},
   "outputs": [],
   "source": [
    "Train = full_df.loc[full_df['source']=='train']\n",
    "Test = full_df.loc[full_df['source']=='test']"
   ]
  },
  {
   "cell_type": "code",
   "execution_count": 36,
   "metadata": {},
   "outputs": [],
   "source": [
    "# Dividing the independent and dependent variables\n",
    "X = Train.drop(['COST','source'], axis=1)\n",
    "y = tst"
   ]
  },
  {
   "cell_type": "code",
   "execution_count": 37,
   "metadata": {
    "scrolled": true
   },
   "outputs": [
    {
     "data": {
      "text/plain": [
       "CITY                   int64\n",
       "CUISINES               int64\n",
       "LOCALITY               int64\n",
       "RATING               float64\n",
       "RESTAURANT_ID          int64\n",
       "TIME                   int64\n",
       "TITLE                  int64\n",
       "votes_no             float64\n",
       "title_rat            float64\n",
       "title_rat_C            int64\n",
       "city_rat             float64\n",
       "city_rat_C             int64\n",
       "cuisine_rat          float64\n",
       "cuisine_rat_C          int64\n",
       "rest_id                int64\n",
       "rest_id_votes          int64\n",
       "title_rat_sum        float64\n",
       "title_rat_C_sum      float64\n",
       "city_rat_sum         float64\n",
       "city_rat_C_sum       float64\n",
       "cuisine_rat_sum      float64\n",
       "cuisine_rat_C_sum    float64\n",
       "rat_vote             float64\n",
       "dtype: object"
      ]
     },
     "execution_count": 37,
     "metadata": {},
     "output_type": "execute_result"
    }
   ],
   "source": [
    "X.dtypes"
   ]
  },
  {
   "cell_type": "code",
   "execution_count": 38,
   "metadata": {},
   "outputs": [],
   "source": [
    "# MODELS\n",
    "from sklearn.model_selection import train_test_split\n",
    "from sklearn.linear_model import LinearRegression\n",
    "from sklearn.tree import DecisionTreeRegressor\n",
    "from sklearn.ensemble import RandomForestRegressor\n",
    "from sklearn.ensemble import GradientBoostingRegressor"
   ]
  },
  {
   "cell_type": "code",
   "execution_count": 39,
   "metadata": {},
   "outputs": [],
   "source": [
    "X_train, X_test, y_train, y_test = train_test_split(X, y, test_size=0.2)"
   ]
  },
  {
   "cell_type": "code",
   "execution_count": 40,
   "metadata": {},
   "outputs": [],
   "source": [
    "# Function for the estimation of the score\n",
    "def score(y_pred,y):\n",
    "    y_pred = np.log(y_pred)\n",
    "    y = np.log(y)\n",
    "    return 1 - ((np.sum((y_pred-y)**2))/len(y))**1/2"
   ]
  },
  {
   "cell_type": "code",
   "execution_count": 41,
   "metadata": {},
   "outputs": [],
   "source": [
    "dtc = DecisionTreeRegressor(max_depth=5)"
   ]
  },
  {
   "cell_type": "code",
   "execution_count": 42,
   "metadata": {},
   "outputs": [
    {
     "data": {
      "text/plain": [
       "DecisionTreeRegressor(criterion='mse', max_depth=5, max_features=None,\n",
       "           max_leaf_nodes=None, min_impurity_decrease=0.0,\n",
       "           min_impurity_split=None, min_samples_leaf=1,\n",
       "           min_samples_split=2, min_weight_fraction_leaf=0.0,\n",
       "           presort=False, random_state=None, splitter='best')"
      ]
     },
     "execution_count": 42,
     "metadata": {},
     "output_type": "execute_result"
    }
   ],
   "source": [
    "dtc.fit(X_train,y_train)"
   ]
  },
  {
   "cell_type": "code",
   "execution_count": 43,
   "metadata": {},
   "outputs": [
    {
     "data": {
      "text/plain": [
       "99.76564009117482"
      ]
     },
     "execution_count": 43,
     "metadata": {},
     "output_type": "execute_result"
    }
   ],
   "source": [
    "# Prediction\n",
    "y_pred = dtc.predict(X_test)\n",
    "score(y_pred,y_test)*100"
   ]
  },
  {
   "cell_type": "code",
   "execution_count": 44,
   "metadata": {},
   "outputs": [],
   "source": [
    "# OUR MODEL HAS PREDICTED 99.75 % WHICH IS 100 % accuracy and it's perfect ."
   ]
  },
  {
   "cell_type": "code",
   "execution_count": 45,
   "metadata": {},
   "outputs": [
    {
     "data": {
      "text/plain": [
       "LinearRegression(copy_X=True, fit_intercept=True, n_jobs=None,\n",
       "         normalize=False)"
      ]
     },
     "execution_count": 45,
     "metadata": {},
     "output_type": "execute_result"
    }
   ],
   "source": [
    "# Linear regression\n",
    "lg = LinearRegression()\n",
    "lg.fit(X_train,y_train)"
   ]
  },
  {
   "cell_type": "code",
   "execution_count": 46,
   "metadata": {},
   "outputs": [
    {
     "data": {
      "text/plain": [
       "99.64042828852956"
      ]
     },
     "execution_count": 46,
     "metadata": {},
     "output_type": "execute_result"
    }
   ],
   "source": [
    "# Prediction\n",
    "y_pred = lg.predict(X_test)\n",
    "score(y_pred,y_test)*100"
   ]
  },
  {
   "cell_type": "code",
   "execution_count": 47,
   "metadata": {},
   "outputs": [],
   "source": [
    "# Regression model has also predicted 100 % accuracy which is perfect\n",
    "# analysis through Bagging model\n",
    "rf = RandomForestRegressor(n_estimators=30, max_depth=5)"
   ]
  },
  {
   "cell_type": "code",
   "execution_count": 48,
   "metadata": {},
   "outputs": [
    {
     "data": {
      "text/plain": [
       "99.77059630943157"
      ]
     },
     "execution_count": 48,
     "metadata": {},
     "output_type": "execute_result"
    }
   ],
   "source": [
    "rf.fit(X_train,y_train)\n",
    "# Prediction\n",
    "y_pred = rf.predict(X_test)\n",
    "score(y_pred,y_test)*100"
   ]
  },
  {
   "cell_type": "markdown",
   "metadata": {},
   "source": [
    " ENSEMBLE model has also predicted model with 100% accuracy which is perfect\n",
    " Hyperparameter tuning is not required in these models as model already had predicted with 100% accuracy"
   ]
  },
  {
   "cell_type": "code",
   "execution_count": 49,
   "metadata": {},
   "outputs": [],
   "source": [
    "# Saving the Random Forest Model as it has predicted the best \n",
    "# Importing Pickle\n",
    "import pickle\n",
    "filehandler = open(\"Project_34.obj\",\"wb\")\n",
    "# saving the model in pickel string\n",
    "saved_rf_model = pickle.dump(rf,filehandler)\n",
    "filehandler.close()"
   ]
  },
  {
   "cell_type": "code",
   "execution_count": null,
   "metadata": {},
   "outputs": [],
   "source": []
  }
 ],
 "metadata": {
  "kernelspec": {
   "display_name": "Python 3",
   "language": "python",
   "name": "python3"
  },
  "language_info": {
   "codemirror_mode": {
    "name": "ipython",
    "version": 3
   },
   "file_extension": ".py",
   "mimetype": "text/x-python",
   "name": "python",
   "nbconvert_exporter": "python",
   "pygments_lexer": "ipython3",
   "version": "3.7.3"
  }
 },
 "nbformat": 4,
 "nbformat_minor": 2
}
