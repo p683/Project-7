{
 "cells": [
  {
   "cell_type": "markdown",
   "metadata": {},
   "source": [
    "# Predict The Flight Ticket Price \n",
    "# Regression Problem"
   ]
  },
  {
   "cell_type": "code",
   "execution_count": 1,
   "metadata": {},
   "outputs": [],
   "source": [
    "# Importing the libraries\n",
    "import pandas as pd\n",
    "import numpy as np\n",
    "import matplotlib.pyplot as plt\n",
    "%matplotlib inline\n",
    "import seaborn as sns\n",
    "import warnings\n",
    "warnings.filterwarnings(\"ignore\")\n",
    "import datetime as dt\n",
    "from datetime import timedelta"
   ]
  },
  {
   "cell_type": "code",
   "execution_count": 2,
   "metadata": {},
   "outputs": [
    {
     "name": "stdout",
     "output_type": "stream",
     "text": [
      "Shape of the training set : (10683, 11)\n",
      "Shape of the test set : (2671, 10)\n"
     ]
    }
   ],
   "source": [
    "# Importing the excel data\n",
    "df_train = pd.read_excel(\"C:\\\\Users\\\\PUNEET SINGH\\\\flight train.xlsx\")\n",
    "df_test = pd.read_excel(\"C:\\\\Users\\\\PUNEET SINGH\\\\flight test.xlsx\")\n",
    "print(\"Shape of the training set :\",df_train.shape)\n",
    "print(\"Shape of the test set :\",df_test.shape)"
   ]
  },
  {
   "cell_type": "code",
   "execution_count": 3,
   "metadata": {},
   "outputs": [
    {
     "name": "stdout",
     "output_type": "stream",
     "text": [
      "5 rows of the training set \n",
      "        Airline Date_of_Journey    Source Destination                  Route  \\\n",
      "0       IndiGo      24/03/2019  Banglore   New Delhi              BLR → DEL   \n",
      "1    Air India       1/05/2019   Kolkata    Banglore  CCU → IXR → BBI → BLR   \n",
      "2  Jet Airways       9/06/2019     Delhi      Cochin  DEL → LKO → BOM → COK   \n",
      "3       IndiGo      12/05/2019   Kolkata    Banglore        CCU → NAG → BLR   \n",
      "4       IndiGo      01/03/2019  Banglore   New Delhi        BLR → NAG → DEL   \n",
      "\n",
      "  Dep_Time  Arrival_Time Duration Total_Stops Additional_Info  Price  \n",
      "0    22:20  01:10 22 Mar   2h 50m    non-stop         No info   3897  \n",
      "1    05:50         13:15   7h 25m     2 stops         No info   7662  \n",
      "2    09:25  04:25 10 Jun      19h     2 stops         No info  13882  \n",
      "3    18:05         23:30   5h 25m      1 stop         No info   6218  \n",
      "4    16:50         21:35   4h 45m      1 stop         No info  13302  \n",
      "________________________________________________________________________________\n",
      "5 rows of the testing set \n",
      "              Airline Date_of_Journey    Source Destination            Route  \\\n",
      "0        Jet Airways       6/06/2019     Delhi      Cochin  DEL → BOM → COK   \n",
      "1             IndiGo      12/05/2019   Kolkata    Banglore  CCU → MAA → BLR   \n",
      "2        Jet Airways      21/05/2019     Delhi      Cochin  DEL → BOM → COK   \n",
      "3  Multiple carriers      21/05/2019     Delhi      Cochin  DEL → BOM → COK   \n",
      "4           Air Asia      24/06/2019  Banglore       Delhi        BLR → DEL   \n",
      "\n",
      "  Dep_Time  Arrival_Time Duration Total_Stops              Additional_Info  \n",
      "0    17:30  04:25 07 Jun  10h 55m      1 stop                      No info  \n",
      "1    06:20         10:20       4h      1 stop                      No info  \n",
      "2    19:15  19:00 22 May  23h 45m      1 stop  In-flight meal not included  \n",
      "3    08:00         21:00      13h      1 stop                      No info  \n",
      "4    23:55  02:45 25 Jun   2h 50m    non-stop                      No info  \n"
     ]
    }
   ],
   "source": [
    "print(\"5 rows of the training set \\n\",df_train.head())\n",
    "print(\"__\"*40)\n",
    "print(\"5 rows of the testing set \\n\",df_test.head())"
   ]
  },
  {
   "cell_type": "code",
   "execution_count": 4,
   "metadata": {},
   "outputs": [
    {
     "data": {
      "text/plain": [
       "Airline            object\n",
       "Date_of_Journey    object\n",
       "Source             object\n",
       "Destination        object\n",
       "Route              object\n",
       "Dep_Time           object\n",
       "Arrival_Time       object\n",
       "Duration           object\n",
       "Total_Stops        object\n",
       "Additional_Info    object\n",
       "Price               int64\n",
       "dtype: object"
      ]
     },
     "execution_count": 4,
     "metadata": {},
     "output_type": "execute_result"
    }
   ],
   "source": [
    "# Data Type of the trainig set\n",
    "df_train.dtypes"
   ]
  },
  {
   "cell_type": "code",
   "execution_count": 5,
   "metadata": {
    "scrolled": true
   },
   "outputs": [
    {
     "name": "stdout",
     "output_type": "stream",
     "text": [
      "Null values in the training set \n",
      "Airline            0\n",
      "Date_of_Journey    0\n",
      "Source             0\n",
      "Destination        0\n",
      "Route              1\n",
      "Dep_Time           0\n",
      "Arrival_Time       0\n",
      "Duration           0\n",
      "Total_Stops        1\n",
      "Additional_Info    0\n",
      "Price              0\n",
      "dtype: int64\n",
      "________________________________________________________________________________\n",
      "Null values in the testing set \n",
      "Airline            0\n",
      "Date_of_Journey    0\n",
      "Source             0\n",
      "Destination        0\n",
      "Route              0\n",
      "Dep_Time           0\n",
      "Arrival_Time       0\n",
      "Duration           0\n",
      "Total_Stops        0\n",
      "Additional_Info    0\n",
      "dtype: int64\n"
     ]
    }
   ],
   "source": [
    "# Checking for the missing values in the training and testing set\n",
    "print(\"Null values in the training set \\n{}\".format(df_train.isnull().sum()))\n",
    "print(\"__\"*40)\n",
    "print(\"Null values in the testing set \\n{}\".format(df_test.isnull().sum()))"
   ]
  },
  {
   "cell_type": "code",
   "execution_count": 6,
   "metadata": {},
   "outputs": [],
   "source": [
    "# Training set only have 1 missing values in two features \n",
    "# so dropping the missing values\n",
    "#drop null column values\n",
    "df_train.dropna(inplace=True)"
   ]
  },
  {
   "cell_type": "code",
   "execution_count": 7,
   "metadata": {},
   "outputs": [
    {
     "name": "stdout",
     "output_type": "stream",
     "text": [
      "Training set \n",
      "Cochin       4536\n",
      "Banglore     2871\n",
      "Delhi        1265\n",
      "New Delhi     932\n",
      "Hyderabad     697\n",
      "Kolkata       381\n",
      "Name: Destination, dtype: int64\n"
     ]
    }
   ],
   "source": [
    "# Checking the value count of the feature 'Destination' in training and testing set\n",
    "print(\"Training set \\n{}\".format(df_train['Destination'].value_counts()))"
   ]
  },
  {
   "cell_type": "code",
   "execution_count": 8,
   "metadata": {},
   "outputs": [
    {
     "name": "stdout",
     "output_type": "stream",
     "text": [
      "Testing  set \n",
      "Cochin       1145\n",
      "Banglore      710\n",
      "Delhi         317\n",
      "New Delhi     238\n",
      "Hyderabad     186\n",
      "Kolkata        75\n",
      "Name: Destination, dtype: int64\n"
     ]
    }
   ],
   "source": [
    "# New delhi and delhi has two different values\n",
    "print(\"Testing  set \\n{}\".format(df_test['Destination'].value_counts()))"
   ]
  },
  {
   "cell_type": "code",
   "execution_count": 9,
   "metadata": {},
   "outputs": [],
   "source": [
    "# Replacing New delhi to delhi in both training and testing set\n",
    "df_train[\"Destination\"] = df_train[\"Destination\"].replace({'New Delhi': 'Delhi'})\n",
    "df_test[\"Destination\"] = df_test[\"Destination\"].replace({'New Delhi': 'Delhi'})"
   ]
  },
  {
   "cell_type": "code",
   "execution_count": 10,
   "metadata": {},
   "outputs": [
    {
     "data": {
      "text/plain": [
       "1 stop      5625\n",
       "non-stop    3491\n",
       "2 stops     1520\n",
       "3 stops       45\n",
       "4 stops        1\n",
       "Name: Total_Stops, dtype: int64"
      ]
     },
     "execution_count": 10,
     "metadata": {},
     "output_type": "execute_result"
    }
   ],
   "source": [
    "# value count of feature Total_stops \n",
    "df_train['Total_Stops'].value_counts()"
   ]
  },
  {
   "cell_type": "code",
   "execution_count": 11,
   "metadata": {},
   "outputs": [],
   "source": [
    "# Assigning the binary form manually\n",
    "# training set\n",
    "df_train.Total_Stops.replace(['1 stop', 'non-stop', '2 stops', '3 stops', '4 stops'], [1, 0, 2, 3, 4], inplace=True)\n",
    "# Testing set\n",
    "df_test.Total_Stops.replace(['1 stop', 'non-stop', '2 stops', '3 stops', '4 stops'], [1, 0, 2, 3, 4], inplace=True)"
   ]
  },
  {
   "cell_type": "code",
   "execution_count": 12,
   "metadata": {},
   "outputs": [],
   "source": [
    "# Changing the object type into int form\n",
    "df_train[\"Total_Stops\"] = df_train[\"Total_Stops\"].astype(int)\n",
    "df_test[\"Total_Stops\"] = df_test[\"Total_Stops\"].astype(int)"
   ]
  },
  {
   "cell_type": "code",
   "execution_count": 13,
   "metadata": {},
   "outputs": [
    {
     "name": "stdout",
     "output_type": "stream",
     "text": [
      "Training set:\n",
      " No info                         8344\n",
      "In-flight meal not included     1982\n",
      "No check-in baggage included     320\n",
      "1 Long layover                    19\n",
      "Change airports                    7\n",
      "Business class                     4\n",
      "No Info                            3\n",
      "1 Short layover                    1\n",
      "2 Long layover                     1\n",
      "Red-eye flight                     1\n",
      "Name: Additional_Info, dtype: int64\n",
      "____________________________________________________________\n",
      "Testing set:\n",
      " No info                         2148\n",
      "In-flight meal not included      444\n",
      "No check-in baggage included      76\n",
      "Business class                     1\n",
      "1 Long layover                     1\n",
      "Change airports                    1\n",
      "Name: Additional_Info, dtype: int64\n"
     ]
    }
   ],
   "source": [
    "print(\"Training set:\\n\",df_train[\"Additional_Info\"].value_counts())\n",
    "print('__'*30)\n",
    "print(\"Testing set:\\n\",df_test[\"Additional_Info\"].value_counts())"
   ]
  },
  {
   "cell_type": "code",
   "execution_count": 14,
   "metadata": {},
   "outputs": [],
   "source": [
    "# No info is there twice in the training set\n",
    "df_train[\"Additional_Info\"] = df_train[\"Additional_Info\"].replace({'No Info': 'No info'})"
   ]
  },
  {
   "cell_type": "code",
   "execution_count": 15,
   "metadata": {},
   "outputs": [],
   "source": [
    "# Now using datetime library\n",
    "# will examine the feature 'Date_of_Journey'\n",
    "# Training set\n",
    "df_train[\"isWeekend\"] = ((pd.to_datetime(df_train[\"Date_of_Journey\"], format = '%d/%m/%Y').dt.dayofweek) // 5 == 1).astype(int)\n",
    "df_train[\"weekday\"] = pd.to_datetime(df_train[\"Date_of_Journey\"], format = '%d/%m/%Y').dt.day_name()\n",
    "df_train[\"journey_day\"] = pd.to_datetime(df_train[\"Date_of_Journey\"], format = '%d/%m/%Y').dt.day.astype(int)\n",
    "df_train[\"Month_of_Journey\"] = pd.to_datetime(df_train[\"Date_of_Journey\"], format = '%d/%m/%Y').dt.month.astype(int)"
   ]
  },
  {
   "cell_type": "code",
   "execution_count": 16,
   "metadata": {},
   "outputs": [],
   "source": [
    "# Testing set\n",
    "df_test[\"isWeekend\"] = ((pd.to_datetime(df_test[\"Date_of_Journey\"], format = '%d/%m/%Y').dt.dayofweek) // 5 == 1).astype(int)\n",
    "df_test[\"journey_day\"] = pd.to_datetime(df_test[\"Date_of_Journey\"], format = '%d/%m/%Y').dt.day.astype(int)\n",
    "df_test[\"weekday\"] = pd.to_datetime(df_test[\"Date_of_Journey\"], format = '%d/%m/%Y').dt.day_name()\n",
    "df_test[\"Month_of_Journey\"] = pd.to_datetime(df_test[\"Date_of_Journey\"], format = '%d/%m/%Y').dt.month.astype(int)"
   ]
  },
  {
   "cell_type": "code",
   "execution_count": 17,
   "metadata": {},
   "outputs": [],
   "source": [
    "# Drop original feature from train and test dataset \n",
    "df_train.drop( 'Date_of_Journey', axis = 1, inplace = True)\n",
    "df_test.drop('Date_of_Journey', axis = 1, inplace = True)"
   ]
  },
  {
   "cell_type": "code",
   "execution_count": 18,
   "metadata": {},
   "outputs": [],
   "source": [
    "# cleaning duration column in dataset to predict\n",
    "duration = list(df_test[\"Duration\"])\n",
    "\n",
    "for i in range(len(duration)) :\n",
    "    if len(duration[i].split()) != 2:\n",
    "        if 'h' in duration[i] :\n",
    "            duration[i] = duration[i].strip() + ' 0m'\n",
    "        elif 'm' in duration[i] :\n",
    "            duration[i] = '0h {}'.format(duration[i].strip())\n",
    "\n",
    "dur_hours = []\n",
    "dur_minutes = []  \n",
    "dur_seconds = []\n",
    "for i in range(len(duration)) :\n",
    "    dur_minutes.append(int(duration[i].split()[0][:-1])*60 + int(duration[i].split()[1][:-1]))\n",
    "    dur_seconds.append(int(duration[i].split()[0][:-1])*60*60 + int(duration[i].split()[1][:-1])*60)\n",
    "df_test[\"Duration_minutes\"] = dur_minutes\n",
    "df_test.drop(labels = 'Duration', axis = 1, inplace = True)"
   ]
  },
  {
   "cell_type": "code",
   "execution_count": 19,
   "metadata": {},
   "outputs": [],
   "source": [
    "#Cleaning Departure and Arrival Times\n",
    "# Training Set\n",
    "df_train['Depart_Time_Hour'] = pd.to_datetime(df_train.Dep_Time).dt.hour.astype(int)\n",
    "df_train['Depart_Time_Minutes'] = pd.to_datetime(df_train.Dep_Time).dt.minute.astype(int)\n",
    "df_train.drop(labels = 'Dep_Time', axis = 1, inplace = True)\n",
    "df_train['Arr_Time_Hour'] = pd.to_datetime(df_train.Arrival_Time).dt.hour.astype(int)\n",
    "df_train['Arr_Time_Minutes'] = pd.to_datetime(df_train.Arrival_Time).dt.minute.astype(int)\n",
    "df_train.drop(labels = 'Arrival_Time', axis = 1, inplace = True)\n",
    "\n",
    "# Testing Set\n",
    "df_test['Depart_Time_Hour'] = pd.to_datetime(df_test.Dep_Time).dt.hour.astype(int)\n",
    "df_test['Depart_Time_Minutes'] = pd.to_datetime(df_test.Dep_Time).dt.minute.astype(int)\n",
    "df_test.drop(labels = 'Dep_Time', axis = 1, inplace = True)\n",
    "df_test['Arr_Time_Hour'] = pd.to_datetime(df_test.Arrival_Time).dt.hour.astype(int)\n",
    "df_test['Arr_Time_Minutes'] = pd.to_datetime(df_test.Arrival_Time).dt.minute.astype(int)\n",
    "df_test.drop(labels = 'Arrival_Time', axis = 1, inplace = True)"
   ]
  },
  {
   "cell_type": "code",
   "execution_count": 20,
   "metadata": {},
   "outputs": [],
   "source": [
    "# df_train['part_of_day'].value_counts()\n",
    "# We created X and y columns for training dataset while y column for dataset to predict will\n",
    "# be generated by our model in final step\n",
    "X = df_train.drop([\"Price\"], axis=1)\n",
    "y = np.log1p(df_train[\"Price\"])\n",
    "# y = df_train[\"Price\"]\n",
    "X_to_predict = df_test\n",
    "# Test set"
   ]
  },
  {
   "cell_type": "code",
   "execution_count": 21,
   "metadata": {},
   "outputs": [
    {
     "data": {
      "text/html": [
       "<div>\n",
       "<style scoped>\n",
       "    .dataframe tbody tr th:only-of-type {\n",
       "        vertical-align: middle;\n",
       "    }\n",
       "\n",
       "    .dataframe tbody tr th {\n",
       "        vertical-align: top;\n",
       "    }\n",
       "\n",
       "    .dataframe thead th {\n",
       "        text-align: right;\n",
       "    }\n",
       "</style>\n",
       "<table border=\"1\" class=\"dataframe\">\n",
       "  <thead>\n",
       "    <tr style=\"text-align: right;\">\n",
       "      <th></th>\n",
       "      <th>Airline</th>\n",
       "      <th>Source</th>\n",
       "      <th>Destination</th>\n",
       "      <th>Route</th>\n",
       "      <th>Duration</th>\n",
       "      <th>Total_Stops</th>\n",
       "      <th>Additional_Info</th>\n",
       "      <th>isWeekend</th>\n",
       "      <th>weekday</th>\n",
       "      <th>journey_day</th>\n",
       "      <th>Month_of_Journey</th>\n",
       "      <th>Depart_Time_Hour</th>\n",
       "      <th>Depart_Time_Minutes</th>\n",
       "      <th>Arr_Time_Hour</th>\n",
       "      <th>Arr_Time_Minutes</th>\n",
       "    </tr>\n",
       "  </thead>\n",
       "  <tbody>\n",
       "    <tr>\n",
       "      <th>0</th>\n",
       "      <td>IndiGo</td>\n",
       "      <td>Banglore</td>\n",
       "      <td>Delhi</td>\n",
       "      <td>BLR → DEL</td>\n",
       "      <td>2h 50m</td>\n",
       "      <td>0</td>\n",
       "      <td>No info</td>\n",
       "      <td>1</td>\n",
       "      <td>Sunday</td>\n",
       "      <td>24</td>\n",
       "      <td>3</td>\n",
       "      <td>22</td>\n",
       "      <td>20</td>\n",
       "      <td>1</td>\n",
       "      <td>10</td>\n",
       "    </tr>\n",
       "    <tr>\n",
       "      <th>1</th>\n",
       "      <td>Air India</td>\n",
       "      <td>Kolkata</td>\n",
       "      <td>Banglore</td>\n",
       "      <td>CCU → IXR → BBI → BLR</td>\n",
       "      <td>7h 25m</td>\n",
       "      <td>2</td>\n",
       "      <td>No info</td>\n",
       "      <td>0</td>\n",
       "      <td>Wednesday</td>\n",
       "      <td>1</td>\n",
       "      <td>5</td>\n",
       "      <td>5</td>\n",
       "      <td>50</td>\n",
       "      <td>13</td>\n",
       "      <td>15</td>\n",
       "    </tr>\n",
       "    <tr>\n",
       "      <th>2</th>\n",
       "      <td>Jet Airways</td>\n",
       "      <td>Delhi</td>\n",
       "      <td>Cochin</td>\n",
       "      <td>DEL → LKO → BOM → COK</td>\n",
       "      <td>19h</td>\n",
       "      <td>2</td>\n",
       "      <td>No info</td>\n",
       "      <td>1</td>\n",
       "      <td>Sunday</td>\n",
       "      <td>9</td>\n",
       "      <td>6</td>\n",
       "      <td>9</td>\n",
       "      <td>25</td>\n",
       "      <td>4</td>\n",
       "      <td>25</td>\n",
       "    </tr>\n",
       "    <tr>\n",
       "      <th>3</th>\n",
       "      <td>IndiGo</td>\n",
       "      <td>Kolkata</td>\n",
       "      <td>Banglore</td>\n",
       "      <td>CCU → NAG → BLR</td>\n",
       "      <td>5h 25m</td>\n",
       "      <td>1</td>\n",
       "      <td>No info</td>\n",
       "      <td>1</td>\n",
       "      <td>Sunday</td>\n",
       "      <td>12</td>\n",
       "      <td>5</td>\n",
       "      <td>18</td>\n",
       "      <td>5</td>\n",
       "      <td>23</td>\n",
       "      <td>30</td>\n",
       "    </tr>\n",
       "    <tr>\n",
       "      <th>4</th>\n",
       "      <td>IndiGo</td>\n",
       "      <td>Banglore</td>\n",
       "      <td>Delhi</td>\n",
       "      <td>BLR → NAG → DEL</td>\n",
       "      <td>4h 45m</td>\n",
       "      <td>1</td>\n",
       "      <td>No info</td>\n",
       "      <td>0</td>\n",
       "      <td>Friday</td>\n",
       "      <td>1</td>\n",
       "      <td>3</td>\n",
       "      <td>16</td>\n",
       "      <td>50</td>\n",
       "      <td>21</td>\n",
       "      <td>35</td>\n",
       "    </tr>\n",
       "  </tbody>\n",
       "</table>\n",
       "</div>"
      ],
      "text/plain": [
       "       Airline    Source Destination                  Route Duration  \\\n",
       "0       IndiGo  Banglore       Delhi              BLR → DEL   2h 50m   \n",
       "1    Air India   Kolkata    Banglore  CCU → IXR → BBI → BLR   7h 25m   \n",
       "2  Jet Airways     Delhi      Cochin  DEL → LKO → BOM → COK      19h   \n",
       "3       IndiGo   Kolkata    Banglore        CCU → NAG → BLR   5h 25m   \n",
       "4       IndiGo  Banglore       Delhi        BLR → NAG → DEL   4h 45m   \n",
       "\n",
       "   Total_Stops Additional_Info  isWeekend    weekday  journey_day  \\\n",
       "0            0         No info          1     Sunday           24   \n",
       "1            2         No info          0  Wednesday            1   \n",
       "2            2         No info          1     Sunday            9   \n",
       "3            1         No info          1     Sunday           12   \n",
       "4            1         No info          0     Friday            1   \n",
       "\n",
       "   Month_of_Journey  Depart_Time_Hour  Depart_Time_Minutes  Arr_Time_Hour  \\\n",
       "0                 3                22                   20              1   \n",
       "1                 5                 5                   50             13   \n",
       "2                 6                 9                   25              4   \n",
       "3                 5                18                    5             23   \n",
       "4                 3                16                   50             21   \n",
       "\n",
       "   Arr_Time_Minutes  \n",
       "0                10  \n",
       "1                15  \n",
       "2                25  \n",
       "3                30  \n",
       "4                35  "
      ]
     },
     "execution_count": 21,
     "metadata": {},
     "output_type": "execute_result"
    }
   ],
   "source": [
    "X.head()"
   ]
  },
  {
   "cell_type": "code",
   "execution_count": 22,
   "metadata": {},
   "outputs": [],
   "source": [
    "#Separate categorical and numerical columns in dataframe\n",
    "X_categorical = X.select_dtypes(exclude=['int', 'float'])\n",
    "X_numerical = X.select_dtypes(include=['int', 'float'])\n",
    "\n",
    "X_to_predict_categorical = X_to_predict.select_dtypes(exclude=['int', 'float'])\n",
    "X_to_predict_numerical = X_to_predict.select_dtypes(include=['int', 'float'])"
   ]
  },
  {
   "cell_type": "code",
   "execution_count": 23,
   "metadata": {},
   "outputs": [
    {
     "data": {
      "text/html": [
       "<div>\n",
       "<style scoped>\n",
       "    .dataframe tbody tr th:only-of-type {\n",
       "        vertical-align: middle;\n",
       "    }\n",
       "\n",
       "    .dataframe tbody tr th {\n",
       "        vertical-align: top;\n",
       "    }\n",
       "\n",
       "    .dataframe thead th {\n",
       "        text-align: right;\n",
       "    }\n",
       "</style>\n",
       "<table border=\"1\" class=\"dataframe\">\n",
       "  <thead>\n",
       "    <tr style=\"text-align: right;\">\n",
       "      <th></th>\n",
       "      <th>Total_Stops</th>\n",
       "      <th>isWeekend</th>\n",
       "      <th>journey_day</th>\n",
       "      <th>Month_of_Journey</th>\n",
       "      <th>Depart_Time_Hour</th>\n",
       "      <th>Depart_Time_Minutes</th>\n",
       "      <th>Arr_Time_Hour</th>\n",
       "      <th>Arr_Time_Minutes</th>\n",
       "    </tr>\n",
       "  </thead>\n",
       "  <tbody>\n",
       "    <tr>\n",
       "      <th>0</th>\n",
       "      <td>0</td>\n",
       "      <td>1</td>\n",
       "      <td>24</td>\n",
       "      <td>3</td>\n",
       "      <td>22</td>\n",
       "      <td>20</td>\n",
       "      <td>1</td>\n",
       "      <td>10</td>\n",
       "    </tr>\n",
       "    <tr>\n",
       "      <th>1</th>\n",
       "      <td>2</td>\n",
       "      <td>0</td>\n",
       "      <td>1</td>\n",
       "      <td>5</td>\n",
       "      <td>5</td>\n",
       "      <td>50</td>\n",
       "      <td>13</td>\n",
       "      <td>15</td>\n",
       "    </tr>\n",
       "    <tr>\n",
       "      <th>2</th>\n",
       "      <td>2</td>\n",
       "      <td>1</td>\n",
       "      <td>9</td>\n",
       "      <td>6</td>\n",
       "      <td>9</td>\n",
       "      <td>25</td>\n",
       "      <td>4</td>\n",
       "      <td>25</td>\n",
       "    </tr>\n",
       "    <tr>\n",
       "      <th>3</th>\n",
       "      <td>1</td>\n",
       "      <td>1</td>\n",
       "      <td>12</td>\n",
       "      <td>5</td>\n",
       "      <td>18</td>\n",
       "      <td>5</td>\n",
       "      <td>23</td>\n",
       "      <td>30</td>\n",
       "    </tr>\n",
       "    <tr>\n",
       "      <th>4</th>\n",
       "      <td>1</td>\n",
       "      <td>0</td>\n",
       "      <td>1</td>\n",
       "      <td>3</td>\n",
       "      <td>16</td>\n",
       "      <td>50</td>\n",
       "      <td>21</td>\n",
       "      <td>35</td>\n",
       "    </tr>\n",
       "  </tbody>\n",
       "</table>\n",
       "</div>"
      ],
      "text/plain": [
       "   Total_Stops  isWeekend  journey_day  Month_of_Journey  Depart_Time_Hour  \\\n",
       "0            0          1           24                 3                22   \n",
       "1            2          0            1                 5                 5   \n",
       "2            2          1            9                 6                 9   \n",
       "3            1          1           12                 5                18   \n",
       "4            1          0            1                 3                16   \n",
       "\n",
       "   Depart_Time_Minutes  Arr_Time_Hour  Arr_Time_Minutes  \n",
       "0                   20              1                10  \n",
       "1                   50             13                15  \n",
       "2                   25              4                25  \n",
       "3                    5             23                30  \n",
       "4                   50             21                35  "
      ]
     },
     "execution_count": 23,
     "metadata": {},
     "output_type": "execute_result"
    }
   ],
   "source": [
    "X_numerical.head()"
   ]
  },
  {
   "cell_type": "code",
   "execution_count": 24,
   "metadata": {},
   "outputs": [],
   "source": [
    "#Create a back up copy specifically for plotting graphs\n",
    "X_numerical_graph = X_numerical.copy()\n",
    "X_categorical_graph = X_categorical.copy()"
   ]
  },
  {
   "cell_type": "code",
   "execution_count": 25,
   "metadata": {},
   "outputs": [
    {
     "data": {
      "text/plain": [
       "Jet Airways                          3849\n",
       "IndiGo                               2053\n",
       "Air India                            1751\n",
       "Multiple carriers                    1196\n",
       "SpiceJet                              818\n",
       "Vistara                               479\n",
       "Air Asia                              319\n",
       "GoAir                                 194\n",
       "Multiple carriers Premium economy      13\n",
       "Jet Airways Business                    6\n",
       "Vistara Premium economy                 3\n",
       "Trujet                                  1\n",
       "Name: Airline, dtype: int64"
      ]
     },
     "execution_count": 25,
     "metadata": {},
     "output_type": "execute_result"
    }
   ],
   "source": [
    "# Checking the value count of feature AIRLINE \n",
    "X_categorical['Airline'].value_counts()"
   ]
  },
  {
   "cell_type": "code",
   "execution_count": 26,
   "metadata": {},
   "outputs": [],
   "source": [
    "# Replacing the smaller counts values into Other\n",
    "# Training set\n",
    "X_categorical[\"Airline\"].replace(to_replace={'Multiple carriers Premium economy':'Other', \n",
    "                                                        'Jet Airways Business':'Other',\n",
    "                                                        'Vistara Premium economy':'Other',\n",
    "                                                        'Trujet':'Other'\n",
    "                                                   },    \n",
    "                                        inplace=True)\n",
    "# Testing set\n",
    "X_to_predict_categorical[\"Airline\"].replace(to_replace={'Multiple carriers Premium economy':'Other', \n",
    "                                                        'Jet Airways Business':'Other',\n",
    "                                                        'Vistara Premium economy':'Other',\n",
    "                                                        'Trujet':'Other'\n",
    "                                                   },    \n",
    "                                        inplace=True)"
   ]
  },
  {
   "cell_type": "code",
   "execution_count": 27,
   "metadata": {},
   "outputs": [
    {
     "data": {
      "text/plain": [
       "No info                         8347\n",
       "In-flight meal not included     1982\n",
       "No check-in baggage included     320\n",
       "1 Long layover                    19\n",
       "Change airports                    7\n",
       "Business class                     4\n",
       "1 Short layover                    1\n",
       "2 Long layover                     1\n",
       "Red-eye flight                     1\n",
       "Name: Additional_Info, dtype: int64"
      ]
     },
     "execution_count": 27,
     "metadata": {},
     "output_type": "execute_result"
    }
   ],
   "source": [
    "# Value count of Feature Additional_Info \n",
    "X_categorical['Additional_Info'].value_counts()"
   ]
  },
  {
   "cell_type": "code",
   "execution_count": 28,
   "metadata": {},
   "outputs": [],
   "source": [
    "# Replacing the smaller counts values into Other\n",
    "# Training set and testing set\n",
    "X_categorical[\"Additional_Info\"].replace(to_replace={'Change airports':'Other', \n",
    "                                                        'Business class':'Other',\n",
    "                                                        '1 Short layover':'Other',\n",
    "                                                        'Red-eye flight':'Other',\n",
    "                                                        '2 Long layover':'Other',   \n",
    "                                                   },    \n",
    "                                        inplace=True)\n",
    "X_to_predict_categorical[\"Additional_Info\"].replace(to_replace={'Change airports':'Other', \n",
    "                                                        'Business class':'Other',\n",
    "                                                        '1 Short layover':'Other',\n",
    "                                                        'Red-eye flight':'Other',\n",
    "                                                        '2 Long layover':'Other',   \n",
    "                                                   },    \n",
    "                                        inplace=True)"
   ]
  },
  {
   "cell_type": "code",
   "execution_count": 29,
   "metadata": {},
   "outputs": [
    {
     "data": {
      "text/html": [
       "<div>\n",
       "<style scoped>\n",
       "    .dataframe tbody tr th:only-of-type {\n",
       "        vertical-align: middle;\n",
       "    }\n",
       "\n",
       "    .dataframe tbody tr th {\n",
       "        vertical-align: top;\n",
       "    }\n",
       "\n",
       "    .dataframe thead th {\n",
       "        text-align: right;\n",
       "    }\n",
       "</style>\n",
       "<table border=\"1\" class=\"dataframe\">\n",
       "  <thead>\n",
       "    <tr style=\"text-align: right;\">\n",
       "      <th></th>\n",
       "      <th>Airline</th>\n",
       "      <th>Source</th>\n",
       "      <th>Destination</th>\n",
       "      <th>Route</th>\n",
       "      <th>Duration</th>\n",
       "      <th>Additional_Info</th>\n",
       "      <th>weekday</th>\n",
       "    </tr>\n",
       "  </thead>\n",
       "  <tbody>\n",
       "    <tr>\n",
       "      <th>0</th>\n",
       "      <td>IndiGo</td>\n",
       "      <td>Banglore</td>\n",
       "      <td>Delhi</td>\n",
       "      <td>BLR → DEL</td>\n",
       "      <td>2h 50m</td>\n",
       "      <td>No info</td>\n",
       "      <td>Sunday</td>\n",
       "    </tr>\n",
       "    <tr>\n",
       "      <th>1</th>\n",
       "      <td>Air India</td>\n",
       "      <td>Kolkata</td>\n",
       "      <td>Banglore</td>\n",
       "      <td>CCU → IXR → BBI → BLR</td>\n",
       "      <td>7h 25m</td>\n",
       "      <td>No info</td>\n",
       "      <td>Wednesday</td>\n",
       "    </tr>\n",
       "    <tr>\n",
       "      <th>2</th>\n",
       "      <td>Jet Airways</td>\n",
       "      <td>Delhi</td>\n",
       "      <td>Cochin</td>\n",
       "      <td>DEL → LKO → BOM → COK</td>\n",
       "      <td>19h</td>\n",
       "      <td>No info</td>\n",
       "      <td>Sunday</td>\n",
       "    </tr>\n",
       "    <tr>\n",
       "      <th>3</th>\n",
       "      <td>IndiGo</td>\n",
       "      <td>Kolkata</td>\n",
       "      <td>Banglore</td>\n",
       "      <td>CCU → NAG → BLR</td>\n",
       "      <td>5h 25m</td>\n",
       "      <td>No info</td>\n",
       "      <td>Sunday</td>\n",
       "    </tr>\n",
       "    <tr>\n",
       "      <th>4</th>\n",
       "      <td>IndiGo</td>\n",
       "      <td>Banglore</td>\n",
       "      <td>Delhi</td>\n",
       "      <td>BLR → NAG → DEL</td>\n",
       "      <td>4h 45m</td>\n",
       "      <td>No info</td>\n",
       "      <td>Friday</td>\n",
       "    </tr>\n",
       "  </tbody>\n",
       "</table>\n",
       "</div>"
      ],
      "text/plain": [
       "       Airline    Source Destination                  Route Duration  \\\n",
       "0       IndiGo  Banglore       Delhi              BLR → DEL   2h 50m   \n",
       "1    Air India   Kolkata    Banglore  CCU → IXR → BBI → BLR   7h 25m   \n",
       "2  Jet Airways     Delhi      Cochin  DEL → LKO → BOM → COK      19h   \n",
       "3       IndiGo   Kolkata    Banglore        CCU → NAG → BLR   5h 25m   \n",
       "4       IndiGo  Banglore       Delhi        BLR → NAG → DEL   4h 45m   \n",
       "\n",
       "  Additional_Info    weekday  \n",
       "0         No info     Sunday  \n",
       "1         No info  Wednesday  \n",
       "2         No info     Sunday  \n",
       "3         No info     Sunday  \n",
       "4         No info     Friday  "
      ]
     },
     "execution_count": 29,
     "metadata": {},
     "output_type": "execute_result"
    }
   ],
   "source": [
    "X_categorical.head()"
   ]
  },
  {
   "cell_type": "code",
   "execution_count": 30,
   "metadata": {},
   "outputs": [],
   "source": [
    "# Transforming the Categorical data into binary form through Label Encoder\n",
    "from sklearn.preprocessing import LabelEncoder\n",
    "le = LabelEncoder()\n",
    "X_categorical = X_categorical.apply(LabelEncoder().fit_transform)\n",
    "X_to_predict_categorical = X_to_predict_categorical.apply(LabelEncoder().fit_transform)"
   ]
  },
  {
   "cell_type": "code",
   "execution_count": 31,
   "metadata": {},
   "outputs": [
    {
     "data": {
      "text/html": [
       "<div>\n",
       "<style scoped>\n",
       "    .dataframe tbody tr th:only-of-type {\n",
       "        vertical-align: middle;\n",
       "    }\n",
       "\n",
       "    .dataframe tbody tr th {\n",
       "        vertical-align: top;\n",
       "    }\n",
       "\n",
       "    .dataframe thead th {\n",
       "        text-align: right;\n",
       "    }\n",
       "</style>\n",
       "<table border=\"1\" class=\"dataframe\">\n",
       "  <thead>\n",
       "    <tr style=\"text-align: right;\">\n",
       "      <th></th>\n",
       "      <th>Airline</th>\n",
       "      <th>Source</th>\n",
       "      <th>Destination</th>\n",
       "      <th>Route</th>\n",
       "      <th>Duration</th>\n",
       "      <th>Additional_Info</th>\n",
       "      <th>weekday</th>\n",
       "    </tr>\n",
       "  </thead>\n",
       "  <tbody>\n",
       "    <tr>\n",
       "      <th>0</th>\n",
       "      <td>3</td>\n",
       "      <td>0</td>\n",
       "      <td>2</td>\n",
       "      <td>18</td>\n",
       "      <td>240</td>\n",
       "      <td>3</td>\n",
       "      <td>3</td>\n",
       "    </tr>\n",
       "    <tr>\n",
       "      <th>1</th>\n",
       "      <td>1</td>\n",
       "      <td>3</td>\n",
       "      <td>0</td>\n",
       "      <td>84</td>\n",
       "      <td>336</td>\n",
       "      <td>3</td>\n",
       "      <td>6</td>\n",
       "    </tr>\n",
       "    <tr>\n",
       "      <th>2</th>\n",
       "      <td>4</td>\n",
       "      <td>2</td>\n",
       "      <td>1</td>\n",
       "      <td>118</td>\n",
       "      <td>106</td>\n",
       "      <td>3</td>\n",
       "      <td>3</td>\n",
       "    </tr>\n",
       "    <tr>\n",
       "      <th>3</th>\n",
       "      <td>3</td>\n",
       "      <td>3</td>\n",
       "      <td>0</td>\n",
       "      <td>91</td>\n",
       "      <td>311</td>\n",
       "      <td>3</td>\n",
       "      <td>3</td>\n",
       "    </tr>\n",
       "    <tr>\n",
       "      <th>4</th>\n",
       "      <td>3</td>\n",
       "      <td>0</td>\n",
       "      <td>2</td>\n",
       "      <td>29</td>\n",
       "      <td>303</td>\n",
       "      <td>3</td>\n",
       "      <td>0</td>\n",
       "    </tr>\n",
       "  </tbody>\n",
       "</table>\n",
       "</div>"
      ],
      "text/plain": [
       "   Airline  Source  Destination  Route  Duration  Additional_Info  weekday\n",
       "0        3       0            2     18       240                3        3\n",
       "1        1       3            0     84       336                3        6\n",
       "2        4       2            1    118       106                3        3\n",
       "3        3       3            0     91       311                3        3\n",
       "4        3       0            2     29       303                3        0"
      ]
     },
     "execution_count": 31,
     "metadata": {},
     "output_type": "execute_result"
    }
   ],
   "source": [
    "#Check values after label encoding\n",
    "X_categorical.head()"
   ]
  },
  {
   "cell_type": "code",
   "execution_count": 32,
   "metadata": {},
   "outputs": [
    {
     "data": {
      "text/html": [
       "<div>\n",
       "<style scoped>\n",
       "    .dataframe tbody tr th:only-of-type {\n",
       "        vertical-align: middle;\n",
       "    }\n",
       "\n",
       "    .dataframe tbody tr th {\n",
       "        vertical-align: top;\n",
       "    }\n",
       "\n",
       "    .dataframe thead th {\n",
       "        text-align: right;\n",
       "    }\n",
       "</style>\n",
       "<table border=\"1\" class=\"dataframe\">\n",
       "  <thead>\n",
       "    <tr style=\"text-align: right;\">\n",
       "      <th></th>\n",
       "      <th>Total_Stops</th>\n",
       "      <th>isWeekend</th>\n",
       "      <th>journey_day</th>\n",
       "      <th>Month_of_Journey</th>\n",
       "      <th>Depart_Time_Hour</th>\n",
       "      <th>Depart_Time_Minutes</th>\n",
       "      <th>Arr_Time_Hour</th>\n",
       "      <th>Arr_Time_Minutes</th>\n",
       "    </tr>\n",
       "  </thead>\n",
       "  <tbody>\n",
       "    <tr>\n",
       "      <th>0</th>\n",
       "      <td>0</td>\n",
       "      <td>1</td>\n",
       "      <td>24</td>\n",
       "      <td>3</td>\n",
       "      <td>22</td>\n",
       "      <td>20</td>\n",
       "      <td>1</td>\n",
       "      <td>10</td>\n",
       "    </tr>\n",
       "    <tr>\n",
       "      <th>1</th>\n",
       "      <td>2</td>\n",
       "      <td>0</td>\n",
       "      <td>1</td>\n",
       "      <td>5</td>\n",
       "      <td>5</td>\n",
       "      <td>50</td>\n",
       "      <td>13</td>\n",
       "      <td>15</td>\n",
       "    </tr>\n",
       "    <tr>\n",
       "      <th>2</th>\n",
       "      <td>2</td>\n",
       "      <td>1</td>\n",
       "      <td>9</td>\n",
       "      <td>6</td>\n",
       "      <td>9</td>\n",
       "      <td>25</td>\n",
       "      <td>4</td>\n",
       "      <td>25</td>\n",
       "    </tr>\n",
       "    <tr>\n",
       "      <th>3</th>\n",
       "      <td>1</td>\n",
       "      <td>1</td>\n",
       "      <td>12</td>\n",
       "      <td>5</td>\n",
       "      <td>18</td>\n",
       "      <td>5</td>\n",
       "      <td>23</td>\n",
       "      <td>30</td>\n",
       "    </tr>\n",
       "    <tr>\n",
       "      <th>4</th>\n",
       "      <td>1</td>\n",
       "      <td>0</td>\n",
       "      <td>1</td>\n",
       "      <td>3</td>\n",
       "      <td>16</td>\n",
       "      <td>50</td>\n",
       "      <td>21</td>\n",
       "      <td>35</td>\n",
       "    </tr>\n",
       "  </tbody>\n",
       "</table>\n",
       "</div>"
      ],
      "text/plain": [
       "   Total_Stops  isWeekend  journey_day  Month_of_Journey  Depart_Time_Hour  \\\n",
       "0            0          1           24                 3                22   \n",
       "1            2          0            1                 5                 5   \n",
       "2            2          1            9                 6                 9   \n",
       "3            1          1           12                 5                18   \n",
       "4            1          0            1                 3                16   \n",
       "\n",
       "   Depart_Time_Minutes  Arr_Time_Hour  Arr_Time_Minutes  \n",
       "0                   20              1                10  \n",
       "1                   50             13                15  \n",
       "2                   25              4                25  \n",
       "3                    5             23                30  \n",
       "4                   50             21                35  "
      ]
     },
     "execution_count": 32,
     "metadata": {},
     "output_type": "execute_result"
    }
   ],
   "source": [
    "#Check values in numerical columns\n",
    "X_numerical.head()"
   ]
  },
  {
   "cell_type": "code",
   "execution_count": 33,
   "metadata": {},
   "outputs": [
    {
     "name": "stdout",
     "output_type": "stream",
     "text": [
      "\n",
      "Skew in numerical features: \n",
      "\n",
      "There are 8 skewed numerical features to Box Cox transform\n"
     ]
    }
   ],
   "source": [
    "# Check the skew of all numerical features and removing it through BOX COX TRANSFORM\n",
    "from scipy.stats import skew\n",
    "# numerical data skewness\n",
    "skewed_feats = X_numerical.apply(lambda x: skew(x.dropna())).sort_values(ascending=False)\n",
    "print(\"\\nSkew in numerical features: \\n\")\n",
    "skewness = pd.DataFrame({'Skew' :skewed_feats})\n",
    "skewness.head(10)\n",
    "skewness = skewness[abs(skewness) > 0.75]\n",
    "print(\"There are {} skewed numerical features to Box Cox transform\".format(skewness.shape[0]))"
   ]
  },
  {
   "cell_type": "code",
   "execution_count": 34,
   "metadata": {},
   "outputs": [],
   "source": [
    "from sklearn.preprocessing import StandardScaler\n",
    "from sklearn.preprocessing import MinMaxScaler\n",
    "cols_train = list(X_numerical.columns)\n",
    "index_train = X_numerical.index.tolist()\n",
    "cols_test = list(X_to_predict_numerical.columns)\n",
    "index_test = X_to_predict_numerical.index.tolist()"
   ]
  },
  {
   "cell_type": "code",
   "execution_count": 35,
   "metadata": {},
   "outputs": [],
   "source": [
    "X_numerical_names = X_numerical.columns\n",
    "X_numerical_index = X_numerical.index\n",
    "X_to_predict_numerical_names = X_to_predict_numerical.columns"
   ]
  },
  {
   "cell_type": "code",
   "execution_count": 36,
   "metadata": {},
   "outputs": [],
   "source": [
    "from scipy.special import boxcox1p\n",
    "skewed_features = skewness.index\n",
    "lam = 0.5\n",
    "for feat in skewed_features:\n",
    "    #all_data[feat] += 1\n",
    "    X_numerical[feat] = boxcox1p(X_numerical[feat], lam)\n",
    "    X_to_predict_numerical[feat] = boxcox1p(X_to_predict_numerical[feat], lam)"
   ]
  },
  {
   "cell_type": "code",
   "execution_count": 37,
   "metadata": {},
   "outputs": [
    {
     "data": {
      "text/html": [
       "<div>\n",
       "<style scoped>\n",
       "    .dataframe tbody tr th:only-of-type {\n",
       "        vertical-align: middle;\n",
       "    }\n",
       "\n",
       "    .dataframe tbody tr th {\n",
       "        vertical-align: top;\n",
       "    }\n",
       "\n",
       "    .dataframe thead th {\n",
       "        text-align: right;\n",
       "    }\n",
       "</style>\n",
       "<table border=\"1\" class=\"dataframe\">\n",
       "  <thead>\n",
       "    <tr style=\"text-align: right;\">\n",
       "      <th></th>\n",
       "      <th>Total_Stops</th>\n",
       "      <th>isWeekend</th>\n",
       "      <th>journey_day</th>\n",
       "      <th>Month_of_Journey</th>\n",
       "      <th>Depart_Time_Hour</th>\n",
       "      <th>Depart_Time_Minutes</th>\n",
       "      <th>Arr_Time_Hour</th>\n",
       "      <th>Arr_Time_Minutes</th>\n",
       "    </tr>\n",
       "  </thead>\n",
       "  <tbody>\n",
       "    <tr>\n",
       "      <th>0</th>\n",
       "      <td>0.000000</td>\n",
       "      <td>0.828427</td>\n",
       "      <td>8.000000</td>\n",
       "      <td>2.000000</td>\n",
       "      <td>7.591663</td>\n",
       "      <td>7.165151</td>\n",
       "      <td>0.828427</td>\n",
       "      <td>4.633250</td>\n",
       "    </tr>\n",
       "    <tr>\n",
       "      <th>1</th>\n",
       "      <td>1.464102</td>\n",
       "      <td>0.000000</td>\n",
       "      <td>0.828427</td>\n",
       "      <td>2.898979</td>\n",
       "      <td>2.898979</td>\n",
       "      <td>12.282857</td>\n",
       "      <td>5.483315</td>\n",
       "      <td>6.000000</td>\n",
       "    </tr>\n",
       "    <tr>\n",
       "      <th>2</th>\n",
       "      <td>1.464102</td>\n",
       "      <td>0.828427</td>\n",
       "      <td>4.324555</td>\n",
       "      <td>3.291503</td>\n",
       "      <td>4.324555</td>\n",
       "      <td>8.198039</td>\n",
       "      <td>2.472136</td>\n",
       "      <td>8.198039</td>\n",
       "    </tr>\n",
       "    <tr>\n",
       "      <th>3</th>\n",
       "      <td>0.828427</td>\n",
       "      <td>0.828427</td>\n",
       "      <td>5.211103</td>\n",
       "      <td>2.898979</td>\n",
       "      <td>6.717798</td>\n",
       "      <td>2.898979</td>\n",
       "      <td>7.797959</td>\n",
       "      <td>9.135529</td>\n",
       "    </tr>\n",
       "    <tr>\n",
       "      <th>4</th>\n",
       "      <td>0.828427</td>\n",
       "      <td>0.000000</td>\n",
       "      <td>0.828427</td>\n",
       "      <td>2.000000</td>\n",
       "      <td>6.246211</td>\n",
       "      <td>12.282857</td>\n",
       "      <td>7.380832</td>\n",
       "      <td>10.000000</td>\n",
       "    </tr>\n",
       "  </tbody>\n",
       "</table>\n",
       "</div>"
      ],
      "text/plain": [
       "   Total_Stops  isWeekend  journey_day  Month_of_Journey  Depart_Time_Hour  \\\n",
       "0     0.000000   0.828427     8.000000          2.000000          7.591663   \n",
       "1     1.464102   0.000000     0.828427          2.898979          2.898979   \n",
       "2     1.464102   0.828427     4.324555          3.291503          4.324555   \n",
       "3     0.828427   0.828427     5.211103          2.898979          6.717798   \n",
       "4     0.828427   0.000000     0.828427          2.000000          6.246211   \n",
       "\n",
       "   Depart_Time_Minutes  Arr_Time_Hour  Arr_Time_Minutes  \n",
       "0             7.165151       0.828427          4.633250  \n",
       "1            12.282857       5.483315          6.000000  \n",
       "2             8.198039       2.472136          8.198039  \n",
       "3             2.898979       7.797959          9.135529  \n",
       "4            12.282857       7.380832         10.000000  "
      ]
     },
     "execution_count": 37,
     "metadata": {},
     "output_type": "execute_result"
    }
   ],
   "source": [
    "#Check values in numerical columns after minmax scaling\n",
    "X_numerical.head(5)"
   ]
  },
  {
   "cell_type": "code",
   "execution_count": 38,
   "metadata": {},
   "outputs": [],
   "source": [
    "#Merge categorical and numerical columns back into respective X and X_to_predict\n",
    "X = pd.concat([X_categorical, X_numerical], axis=1)\n",
    "X_to_predict = pd.concat([X_to_predict_categorical, X_to_predict_numerical], axis=1)"
   ]
  },
  {
   "cell_type": "code",
   "execution_count": 39,
   "metadata": {},
   "outputs": [
    {
     "name": "stdout",
     "output_type": "stream",
     "text": [
      "(10682, 15) (10682, 8) (10682, 7)\n",
      "(2671, 15) (2671, 8) (2671, 7)\n",
      "(10682,)\n"
     ]
    }
   ],
   "source": [
    "#Check shape of all three to verify that merge was done properly in above step\n",
    "print(X.shape, X_numerical.shape, X_categorical.shape)\n",
    "print(X_to_predict.shape, X_to_predict_numerical.shape, X_to_predict_categorical.shape)\n",
    "print(y.shape)"
   ]
  },
  {
   "cell_type": "code",
   "execution_count": 40,
   "metadata": {},
   "outputs": [],
   "source": [
    "# Splitting the data and a function for metrics measure\n",
    "from sklearn.model_selection import train_test_split\n",
    "from sklearn import metrics\n",
    "import numpy as np\n",
    "from sklearn.metrics import mean_squared_log_error\n",
    "# We have created a function to print accuracy metrics which can be used\n",
    "# to get accuracy metrics of all models in upcoming steps\n",
    "def print_accuracy_report(y_test, y_pred,X_test, model):\n",
    " print('R Squared(Accuracy)', metrics.r2_score(y_test, y_pred)*100)   \n",
    " print('Mean Absolute Error:', metrics.mean_absolute_error(y_test, y_pred))  \n",
    " print('Mean Squared Error:', metrics.mean_squared_error(y_test, y_pred))\n",
    " print('Root Mean Squared Error:', np.sqrt(metrics.mean_squared_error(y_test, y_pred)))\n",
    " print('Root Mean Squared Log Error',np.sqrt(mean_squared_log_error( y_test, y_pred )))"
   ]
  },
  {
   "cell_type": "code",
   "execution_count": 41,
   "metadata": {},
   "outputs": [
    {
     "name": "stdout",
     "output_type": "stream",
     "text": [
      "R Squared(Accuracy) 59.99591241351404\n",
      "Mean Absolute Error: 0.2639770972905898\n",
      "Mean Squared Error: 0.10764255056271275\n",
      "Root Mean Squared Error: 0.3280892417661889\n",
      "Root Mean Squared Log Error 0.03293700844546377\n",
      "None\n"
     ]
    }
   ],
   "source": [
    "# we have created a function to generate linear regression model\n",
    "# which can then be called again after feature selection or other steps\n",
    "from sklearn.linear_model import LinearRegression\n",
    "from sklearn.metrics import accuracy_score\n",
    "def LinearRegressionModel(X,y):\n",
    " X_train, X_test, y_train, y_test = train_test_split(X, y,random_state=42, test_size=0.3)\n",
    " regressor = LinearRegression()  \n",
    " regressor.fit(X_train, y_train)\n",
    " y_pred = regressor.predict(X_test)\n",
    " print(print_accuracy_report(y_test, y_pred, X_test, regressor))\n",
    " return regressor\n",
    "linearModel = LinearRegressionModel(X,y)"
   ]
  },
  {
   "cell_type": "code",
   "execution_count": 42,
   "metadata": {},
   "outputs": [],
   "source": [
    "# Linear Regression model has predicted 60% accuracy ."
   ]
  },
  {
   "cell_type": "code",
   "execution_count": 43,
   "metadata": {},
   "outputs": [
    {
     "name": "stdout",
     "output_type": "stream",
     "text": [
      "R Squared(Accuracy) 93.78930439446829\n",
      "Mean Absolute Error: 0.0729419133055475\n",
      "Mean Squared Error: 0.016711670133776727\n",
      "Root Mean Squared Error: 0.12927362505080736\n",
      "Root Mean Squared Log Error 0.012894220177210251\n",
      "None\n"
     ]
    }
   ],
   "source": [
    "#similarly define a function for random forest regressor\n",
    "from sklearn.ensemble import RandomForestRegressor\n",
    "def RandomForestRegressorModel(X,y):\n",
    "    X_train, X_test, y_train, y_test = train_test_split(X, y,random_state=42, test_size=0.3)\n",
    "    rf = RandomForestRegressor(random_state=42)\n",
    "    rf.fit(X_train, y_train)\n",
    "    y_pred = rf.predict(X_test)\n",
    "    print(print_accuracy_report(y_test, y_pred, X_test, rf))\n",
    "    return rf\n",
    "randomForestModel = RandomForestRegressorModel(X,y)"
   ]
  },
  {
   "cell_type": "code",
   "execution_count": 44,
   "metadata": {},
   "outputs": [],
   "source": [
    "# Random Forest model has predicted with 93 % which is very good."
   ]
  },
  {
   "cell_type": "code",
   "execution_count": 45,
   "metadata": {
    "scrolled": true
   },
   "outputs": [
    {
     "name": "stdout",
     "output_type": "stream",
     "text": [
      "R Squared(Accuracy) 94.23693628544623\n",
      "Mean Absolute Error: 0.06791908879736915\n",
      "Mean Squared Error: 0.01550718725802296\n",
      "Root Mean Squared Error: 0.12452785735739196\n",
      "Root Mean Squared Log Error 0.012400649255375498\n",
      "None\n"
     ]
    }
   ],
   "source": [
    "# Applying the Extra regressor \n",
    "# select features using extratreesclassifier\n",
    "from sklearn.ensemble import ExtraTreesRegressor\n",
    "def ExtraTreesRegressorModel(X,y):\n",
    "    X_train, X_test, y_train, y_test = train_test_split(X, y,random_state=42, test_size=0.3)\n",
    "    rf = ExtraTreesRegressor()\n",
    "    rf.fit(X_train, y_train)\n",
    "    y_pred = rf.predict(X_test)\n",
    "    print(print_accuracy_report(y_test, y_pred, X_test, rf))\n",
    "    return rf\n",
    "extraTreeRegressorModel = ExtraTreesRegressorModel(X,y)"
   ]
  },
  {
   "cell_type": "markdown",
   "metadata": {},
   "source": [
    "Extratreeregressor has predicted better than Random Forest which is 94.23% while Random forest predicted accuracy of 93.78%"
   ]
  },
  {
   "cell_type": "code",
   "execution_count": 47,
   "metadata": {},
   "outputs": [],
   "source": [
    "# Applying the Hyperparameter Tuning on the Random Forest Model\n",
    "# Importing the GridSeachCV\n",
    "from sklearn.model_selection import GridSearchCV\n",
    "X_train, X_test, y_train, y_test = train_test_split(X, y,random_state=42, test_size=0.3)"
   ]
  },
  {
   "cell_type": "code",
   "execution_count": 48,
   "metadata": {},
   "outputs": [],
   "source": [
    "params = ({'n_estimators':[20,30,40],'criterion':['mse','mae'],'max_depth':[3,4,5]})\n",
    "grid_search = GridSearchCV(estimator=randomForestModel,param_grid=params,n_jobs=-1)"
   ]
  },
  {
   "cell_type": "code",
   "execution_count": 49,
   "metadata": {},
   "outputs": [
    {
     "data": {
      "text/plain": [
       "GridSearchCV(cv='warn', error_score='raise-deprecating',\n",
       "       estimator=RandomForestRegressor(bootstrap=True, criterion='mse', max_depth=None,\n",
       "           max_features='auto', max_leaf_nodes=None,\n",
       "           min_impurity_decrease=0.0, min_impurity_split=None,\n",
       "           min_samples_leaf=1, min_samples_split=2,\n",
       "           min_weight_fraction_leaf=0.0, n_estimators=10, n_jobs=None,\n",
       "           oob_score=False, random_state=42, verbose=0, warm_start=False),\n",
       "       fit_params=None, iid='warn', n_jobs=-1,\n",
       "       param_grid={'n_estimators': [20, 30, 40], 'criterion': ['mse', 'mae'], 'max_depth': [3, 4, 5]},\n",
       "       pre_dispatch='2*n_jobs', refit=True, return_train_score='warn',\n",
       "       scoring=None, verbose=0)"
      ]
     },
     "execution_count": 49,
     "metadata": {},
     "output_type": "execute_result"
    }
   ],
   "source": [
    "grid_search.fit(X_train,y_train)"
   ]
  },
  {
   "cell_type": "code",
   "execution_count": 50,
   "metadata": {},
   "outputs": [
    {
     "data": {
      "text/plain": [
       "array([9.32678035, 8.73398342, 9.11852583, ..., 8.72121139, 8.07111641,\n",
       "       8.73398342])"
      ]
     },
     "execution_count": 50,
     "metadata": {},
     "output_type": "execute_result"
    }
   ],
   "source": [
    "grid_search.predict(X_test)"
   ]
  },
  {
   "cell_type": "code",
   "execution_count": 52,
   "metadata": {},
   "outputs": [
    {
     "name": "stdout",
     "output_type": "stream",
     "text": [
      "Best parameter of the model : {'criterion': 'mse', 'max_depth': 5, 'n_estimators': 40}\n"
     ]
    }
   ],
   "source": [
    "print(\"Best parameter of the model :\",grid_search.best_params_)"
   ]
  },
  {
   "cell_type": "code",
   "execution_count": 53,
   "metadata": {},
   "outputs": [],
   "source": [
    "# For applying the Refitting best parameters are there"
   ]
  },
  {
   "cell_type": "code",
   "execution_count": 54,
   "metadata": {},
   "outputs": [],
   "source": [
    "# Saving the Extra Tree Regressor Model as it has predicted the best \n",
    "# Importing Pickle\n",
    "import pickle\n",
    "filehandler = open(\"Project_32.obj\",\"wb\")\n",
    "# saving the model in pickel string\n",
    "saved_etr_model = pickle.dump(extraTreeRegressorModel,filehandler)\n",
    "filehandler.close()"
   ]
  },
  {
   "cell_type": "code",
   "execution_count": null,
   "metadata": {},
   "outputs": [],
   "source": []
  }
 ],
 "metadata": {
  "kernelspec": {
   "display_name": "Python 3",
   "language": "python",
   "name": "python3"
  },
  "language_info": {
   "codemirror_mode": {
    "name": "ipython",
    "version": 3
   },
   "file_extension": ".py",
   "mimetype": "text/x-python",
   "name": "python",
   "nbconvert_exporter": "python",
   "pygments_lexer": "ipython3",
   "version": "3.7.3"
  }
 },
 "nbformat": 4,
 "nbformat_minor": 2
}
